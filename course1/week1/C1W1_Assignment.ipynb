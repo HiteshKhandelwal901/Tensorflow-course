{
 "cells": [
  {
   "cell_type": "markdown",
   "metadata": {
    "colab_type": "text",
    "id": "ZL_6GK8qX35J"
   },
   "source": [
    "\n",
    "\n",
    "# Week 1: Multiple Output Models using the Keras Functional API\n",
    "\n",
    "Welcome to the first programming assignment of the course! Your task will be to use the Keras functional API to train a model to predict two outputs. For this lab, you will use the **[Wine Quality Dataset](https://archive.ics.uci.edu/ml/datasets/Wine+Quality)** from the **UCI machine learning repository**. It has separate datasets for red wine and white wine.\n",
    "\n",
    "Normally, the wines are classified into one of the quality ratings specified in the attributes. In this exercise, you will combine the two datasets to predict the wine quality and whether the wine is red or white solely from the attributes. \n",
    "\n",
    "You will model wine quality estimations as a regression problem and wine type detection as a binary classification problem.\n",
    "\n",
    "#### Please complete sections that are marked **(TODO)**"
   ]
  },
  {
   "cell_type": "markdown",
   "metadata": {
    "colab_type": "text",
    "id": "obdcD6urYBY9"
   },
   "source": [
    "## Imports"
   ]
  },
  {
   "cell_type": "code",
   "execution_count": 1,
   "metadata": {
    "colab": {},
    "colab_type": "code",
    "id": "t8N3pcTQ5oQI"
   },
   "outputs": [],
   "source": [
    "import tensorflow as tf\n",
    "from tensorflow.keras.models import Model\n",
    "from tensorflow.keras.layers import Dense, Input\n",
    "\n",
    "import numpy as np\n",
    "import matplotlib.pyplot as plt\n",
    "import pandas as pd\n",
    "from sklearn.model_selection import train_test_split\n",
    "from sklearn.metrics import confusion_matrix\n",
    "import itertools\n",
    "\n",
    "import utils"
   ]
  },
  {
   "cell_type": "markdown",
   "metadata": {
    "colab_type": "text",
    "id": "gQMERzWQYpgm"
   },
   "source": [
    "## Load Dataset\n",
    "\n",
    "\n",
    "You will now load the dataset from the [UCI Machine Learning Repository](https://archive.ics.uci.edu/ml/index.php) which are already saved in your workspace.\n",
    "\n",
    "### Pre-process the white wine dataset (TODO)\n",
    "You will add a new column named `is_red` in your dataframe to indicate if the wine is white or red. \n",
    "- In the white wine dataset, you will fill the column `is_red` with  zeros (0)."
   ]
  },
  {
   "cell_type": "code",
   "execution_count": 4,
   "metadata": {
    "colab": {},
    "colab_type": "code",
    "deletable": false,
    "id": "2qYAjKXCd4RH",
    "nbgrader": {
     "cell_type": "code",
     "checksum": "325ea195519b7035934c95bb529a062c",
     "grade": false,
     "grade_id": "cell-e5bfa0f152d9a21f",
     "locked": false,
     "schema_version": 3,
     "solution": true,
     "task": false
    }
   },
   "outputs": [
    {
     "data": {
      "text/html": [
       "<div>\n",
       "<style scoped>\n",
       "    .dataframe tbody tr th:only-of-type {\n",
       "        vertical-align: middle;\n",
       "    }\n",
       "\n",
       "    .dataframe tbody tr th {\n",
       "        vertical-align: top;\n",
       "    }\n",
       "\n",
       "    .dataframe thead th {\n",
       "        text-align: right;\n",
       "    }\n",
       "</style>\n",
       "<table border=\"1\" class=\"dataframe\">\n",
       "  <thead>\n",
       "    <tr style=\"text-align: right;\">\n",
       "      <th></th>\n",
       "      <th>fixed acidity</th>\n",
       "      <th>volatile acidity</th>\n",
       "      <th>citric acid</th>\n",
       "      <th>residual sugar</th>\n",
       "      <th>chlorides</th>\n",
       "      <th>free sulfur dioxide</th>\n",
       "      <th>total sulfur dioxide</th>\n",
       "      <th>density</th>\n",
       "      <th>pH</th>\n",
       "      <th>sulphates</th>\n",
       "      <th>alcohol</th>\n",
       "      <th>quality</th>\n",
       "      <th>is_red</th>\n",
       "    </tr>\n",
       "  </thead>\n",
       "  <tbody>\n",
       "    <tr>\n",
       "      <th>0</th>\n",
       "      <td>7.0</td>\n",
       "      <td>0.27</td>\n",
       "      <td>0.36</td>\n",
       "      <td>20.7</td>\n",
       "      <td>0.045</td>\n",
       "      <td>45.0</td>\n",
       "      <td>170.0</td>\n",
       "      <td>1.00100</td>\n",
       "      <td>3.00</td>\n",
       "      <td>0.45</td>\n",
       "      <td>8.8</td>\n",
       "      <td>6</td>\n",
       "      <td>0</td>\n",
       "    </tr>\n",
       "    <tr>\n",
       "      <th>1</th>\n",
       "      <td>6.3</td>\n",
       "      <td>0.30</td>\n",
       "      <td>0.34</td>\n",
       "      <td>1.6</td>\n",
       "      <td>0.049</td>\n",
       "      <td>14.0</td>\n",
       "      <td>132.0</td>\n",
       "      <td>0.99400</td>\n",
       "      <td>3.30</td>\n",
       "      <td>0.49</td>\n",
       "      <td>9.5</td>\n",
       "      <td>6</td>\n",
       "      <td>0</td>\n",
       "    </tr>\n",
       "    <tr>\n",
       "      <th>2</th>\n",
       "      <td>8.1</td>\n",
       "      <td>0.28</td>\n",
       "      <td>0.40</td>\n",
       "      <td>6.9</td>\n",
       "      <td>0.050</td>\n",
       "      <td>30.0</td>\n",
       "      <td>97.0</td>\n",
       "      <td>0.99510</td>\n",
       "      <td>3.26</td>\n",
       "      <td>0.44</td>\n",
       "      <td>10.1</td>\n",
       "      <td>6</td>\n",
       "      <td>0</td>\n",
       "    </tr>\n",
       "    <tr>\n",
       "      <th>3</th>\n",
       "      <td>7.2</td>\n",
       "      <td>0.23</td>\n",
       "      <td>0.32</td>\n",
       "      <td>8.5</td>\n",
       "      <td>0.058</td>\n",
       "      <td>47.0</td>\n",
       "      <td>186.0</td>\n",
       "      <td>0.99560</td>\n",
       "      <td>3.19</td>\n",
       "      <td>0.40</td>\n",
       "      <td>9.9</td>\n",
       "      <td>6</td>\n",
       "      <td>0</td>\n",
       "    </tr>\n",
       "    <tr>\n",
       "      <th>6</th>\n",
       "      <td>6.2</td>\n",
       "      <td>0.32</td>\n",
       "      <td>0.16</td>\n",
       "      <td>7.0</td>\n",
       "      <td>0.045</td>\n",
       "      <td>30.0</td>\n",
       "      <td>136.0</td>\n",
       "      <td>0.99490</td>\n",
       "      <td>3.18</td>\n",
       "      <td>0.47</td>\n",
       "      <td>9.6</td>\n",
       "      <td>6</td>\n",
       "      <td>0</td>\n",
       "    </tr>\n",
       "    <tr>\n",
       "      <th>...</th>\n",
       "      <td>...</td>\n",
       "      <td>...</td>\n",
       "      <td>...</td>\n",
       "      <td>...</td>\n",
       "      <td>...</td>\n",
       "      <td>...</td>\n",
       "      <td>...</td>\n",
       "      <td>...</td>\n",
       "      <td>...</td>\n",
       "      <td>...</td>\n",
       "      <td>...</td>\n",
       "      <td>...</td>\n",
       "      <td>...</td>\n",
       "    </tr>\n",
       "    <tr>\n",
       "      <th>4893</th>\n",
       "      <td>6.2</td>\n",
       "      <td>0.21</td>\n",
       "      <td>0.29</td>\n",
       "      <td>1.6</td>\n",
       "      <td>0.039</td>\n",
       "      <td>24.0</td>\n",
       "      <td>92.0</td>\n",
       "      <td>0.99114</td>\n",
       "      <td>3.27</td>\n",
       "      <td>0.50</td>\n",
       "      <td>11.2</td>\n",
       "      <td>6</td>\n",
       "      <td>0</td>\n",
       "    </tr>\n",
       "    <tr>\n",
       "      <th>4894</th>\n",
       "      <td>6.6</td>\n",
       "      <td>0.32</td>\n",
       "      <td>0.36</td>\n",
       "      <td>8.0</td>\n",
       "      <td>0.047</td>\n",
       "      <td>57.0</td>\n",
       "      <td>168.0</td>\n",
       "      <td>0.99490</td>\n",
       "      <td>3.15</td>\n",
       "      <td>0.46</td>\n",
       "      <td>9.6</td>\n",
       "      <td>5</td>\n",
       "      <td>0</td>\n",
       "    </tr>\n",
       "    <tr>\n",
       "      <th>4895</th>\n",
       "      <td>6.5</td>\n",
       "      <td>0.24</td>\n",
       "      <td>0.19</td>\n",
       "      <td>1.2</td>\n",
       "      <td>0.041</td>\n",
       "      <td>30.0</td>\n",
       "      <td>111.0</td>\n",
       "      <td>0.99254</td>\n",
       "      <td>2.99</td>\n",
       "      <td>0.46</td>\n",
       "      <td>9.4</td>\n",
       "      <td>6</td>\n",
       "      <td>0</td>\n",
       "    </tr>\n",
       "    <tr>\n",
       "      <th>4896</th>\n",
       "      <td>5.5</td>\n",
       "      <td>0.29</td>\n",
       "      <td>0.30</td>\n",
       "      <td>1.1</td>\n",
       "      <td>0.022</td>\n",
       "      <td>20.0</td>\n",
       "      <td>110.0</td>\n",
       "      <td>0.98869</td>\n",
       "      <td>3.34</td>\n",
       "      <td>0.38</td>\n",
       "      <td>12.8</td>\n",
       "      <td>7</td>\n",
       "      <td>0</td>\n",
       "    </tr>\n",
       "    <tr>\n",
       "      <th>4897</th>\n",
       "      <td>6.0</td>\n",
       "      <td>0.21</td>\n",
       "      <td>0.38</td>\n",
       "      <td>0.8</td>\n",
       "      <td>0.020</td>\n",
       "      <td>22.0</td>\n",
       "      <td>98.0</td>\n",
       "      <td>0.98941</td>\n",
       "      <td>3.26</td>\n",
       "      <td>0.32</td>\n",
       "      <td>11.8</td>\n",
       "      <td>6</td>\n",
       "      <td>0</td>\n",
       "    </tr>\n",
       "  </tbody>\n",
       "</table>\n",
       "<p>3961 rows × 13 columns</p>\n",
       "</div>"
      ],
      "text/plain": [
       "      fixed acidity  volatile acidity  citric acid  residual sugar  chlorides  \\\n",
       "0               7.0              0.27         0.36            20.7      0.045   \n",
       "1               6.3              0.30         0.34             1.6      0.049   \n",
       "2               8.1              0.28         0.40             6.9      0.050   \n",
       "3               7.2              0.23         0.32             8.5      0.058   \n",
       "6               6.2              0.32         0.16             7.0      0.045   \n",
       "...             ...               ...          ...             ...        ...   \n",
       "4893            6.2              0.21         0.29             1.6      0.039   \n",
       "4894            6.6              0.32         0.36             8.0      0.047   \n",
       "4895            6.5              0.24         0.19             1.2      0.041   \n",
       "4896            5.5              0.29         0.30             1.1      0.022   \n",
       "4897            6.0              0.21         0.38             0.8      0.020   \n",
       "\n",
       "      free sulfur dioxide  total sulfur dioxide  density    pH  sulphates  \\\n",
       "0                    45.0                 170.0  1.00100  3.00       0.45   \n",
       "1                    14.0                 132.0  0.99400  3.30       0.49   \n",
       "2                    30.0                  97.0  0.99510  3.26       0.44   \n",
       "3                    47.0                 186.0  0.99560  3.19       0.40   \n",
       "6                    30.0                 136.0  0.99490  3.18       0.47   \n",
       "...                   ...                   ...      ...   ...        ...   \n",
       "4893                 24.0                  92.0  0.99114  3.27       0.50   \n",
       "4894                 57.0                 168.0  0.99490  3.15       0.46   \n",
       "4895                 30.0                 111.0  0.99254  2.99       0.46   \n",
       "4896                 20.0                 110.0  0.98869  3.34       0.38   \n",
       "4897                 22.0                  98.0  0.98941  3.26       0.32   \n",
       "\n",
       "      alcohol  quality  is_red  \n",
       "0         8.8        6       0  \n",
       "1         9.5        6       0  \n",
       "2        10.1        6       0  \n",
       "3         9.9        6       0  \n",
       "6         9.6        6       0  \n",
       "...       ...      ...     ...  \n",
       "4893     11.2        6       0  \n",
       "4894      9.6        5       0  \n",
       "4895      9.4        6       0  \n",
       "4896     12.8        7       0  \n",
       "4897     11.8        6       0  \n",
       "\n",
       "[3961 rows x 13 columns]"
      ]
     },
     "execution_count": 4,
     "metadata": {},
     "output_type": "execute_result"
    }
   ],
   "source": [
    "## Please uncomment all lines in this cell and replace those marked with `# YOUR CODE HERE`.\n",
    "## You can select all lines in this code cell with Ctrl+A (Windows/Linux) or Cmd+A (Mac), then press Ctrl+/ (Windows/Linux) or Cmd+/ (Mac) to uncomment.\n",
    "\n",
    "\n",
    "\n",
    "#URL of the white wine dataset\n",
    "URI = './winequality-white.csv'\n",
    "\n",
    "#load the dataset from the URL\n",
    "white_df = pd.read_csv(URI, sep=\";\")\n",
    "\n",
    "# # fill the `is_red` column with zeros.\n",
    "white_df[\"is_red\"] = 0\n",
    "\n",
    "# # keep only the first of duplicate items\n",
    "white_df = white_df.drop_duplicates(keep='first')\n",
    "\n",
    "white_df\n"
   ]
  },
  {
   "cell_type": "code",
   "execution_count": 5,
   "metadata": {
    "deletable": false,
    "editable": false,
    "nbgrader": {
     "cell_type": "code",
     "checksum": "defe38d6ec58fd31cd67b89e46c4373f",
     "grade": true,
     "grade_id": "cell-30575e713b55fc51",
     "locked": true,
     "points": 1,
     "schema_version": 3,
     "solution": false,
     "task": false
    }
   },
   "outputs": [
    {
     "name": "stdout",
     "output_type": "stream",
     "text": [
      "\u001b[92m All public tests passed\n"
     ]
    }
   ],
   "source": [
    "# You can click `File -> Open` in the menu above and open the `utils.py` file \n",
    "# in case you want to inspect the unit tests being used for each graded function.\n",
    "\n",
    "utils.test_white_df(white_df)\n"
   ]
  },
  {
   "cell_type": "code",
   "execution_count": 6,
   "metadata": {
    "colab": {},
    "colab_type": "code",
    "id": "OQHK0ohBQRCk"
   },
   "outputs": [
    {
     "name": "stdout",
     "output_type": "stream",
     "text": [
      "8.8\n",
      "9.1\n"
     ]
    }
   ],
   "source": [
    "print(white_df.alcohol[0])\n",
    "print(white_df.alcohol[100])\n",
    "\n",
    "# EXPECTED OUTPUT\n",
    "# 8.8\n",
    "# 9.1"
   ]
  },
  {
   "cell_type": "markdown",
   "metadata": {},
   "source": [
    "### Pre-process the red wine dataset (TODO)\n",
    "- In the red wine dataset, you will fill in the column `is_red` with ones (1)."
   ]
  },
  {
   "cell_type": "code",
   "execution_count": 13,
   "metadata": {
    "colab": {},
    "colab_type": "code",
    "deletable": false,
    "id": "8y3QxKwBed8v",
    "nbgrader": {
     "cell_type": "code",
     "checksum": "12e0963d15be33b01b4e6ebc8945e51e",
     "grade": false,
     "grade_id": "cell-e47a40f306593274",
     "locked": false,
     "schema_version": 3,
     "solution": true,
     "task": false
    }
   },
   "outputs": [
    {
     "data": {
      "text/html": [
       "<div>\n",
       "<style scoped>\n",
       "    .dataframe tbody tr th:only-of-type {\n",
       "        vertical-align: middle;\n",
       "    }\n",
       "\n",
       "    .dataframe tbody tr th {\n",
       "        vertical-align: top;\n",
       "    }\n",
       "\n",
       "    .dataframe thead th {\n",
       "        text-align: right;\n",
       "    }\n",
       "</style>\n",
       "<table border=\"1\" class=\"dataframe\">\n",
       "  <thead>\n",
       "    <tr style=\"text-align: right;\">\n",
       "      <th></th>\n",
       "      <th>fixed acidity</th>\n",
       "      <th>volatile acidity</th>\n",
       "      <th>citric acid</th>\n",
       "      <th>residual sugar</th>\n",
       "      <th>chlorides</th>\n",
       "      <th>free sulfur dioxide</th>\n",
       "      <th>total sulfur dioxide</th>\n",
       "      <th>density</th>\n",
       "      <th>pH</th>\n",
       "      <th>sulphates</th>\n",
       "      <th>alcohol</th>\n",
       "      <th>quality</th>\n",
       "      <th>is_red</th>\n",
       "    </tr>\n",
       "  </thead>\n",
       "  <tbody>\n",
       "    <tr>\n",
       "      <th>0</th>\n",
       "      <td>7.4</td>\n",
       "      <td>0.700</td>\n",
       "      <td>0.00</td>\n",
       "      <td>1.9</td>\n",
       "      <td>0.076</td>\n",
       "      <td>11.0</td>\n",
       "      <td>34.0</td>\n",
       "      <td>0.99780</td>\n",
       "      <td>3.51</td>\n",
       "      <td>0.56</td>\n",
       "      <td>9.4</td>\n",
       "      <td>5</td>\n",
       "      <td>1</td>\n",
       "    </tr>\n",
       "    <tr>\n",
       "      <th>1</th>\n",
       "      <td>7.8</td>\n",
       "      <td>0.880</td>\n",
       "      <td>0.00</td>\n",
       "      <td>2.6</td>\n",
       "      <td>0.098</td>\n",
       "      <td>25.0</td>\n",
       "      <td>67.0</td>\n",
       "      <td>0.99680</td>\n",
       "      <td>3.20</td>\n",
       "      <td>0.68</td>\n",
       "      <td>9.8</td>\n",
       "      <td>5</td>\n",
       "      <td>1</td>\n",
       "    </tr>\n",
       "    <tr>\n",
       "      <th>2</th>\n",
       "      <td>7.8</td>\n",
       "      <td>0.760</td>\n",
       "      <td>0.04</td>\n",
       "      <td>2.3</td>\n",
       "      <td>0.092</td>\n",
       "      <td>15.0</td>\n",
       "      <td>54.0</td>\n",
       "      <td>0.99700</td>\n",
       "      <td>3.26</td>\n",
       "      <td>0.65</td>\n",
       "      <td>9.8</td>\n",
       "      <td>5</td>\n",
       "      <td>1</td>\n",
       "    </tr>\n",
       "    <tr>\n",
       "      <th>3</th>\n",
       "      <td>11.2</td>\n",
       "      <td>0.280</td>\n",
       "      <td>0.56</td>\n",
       "      <td>1.9</td>\n",
       "      <td>0.075</td>\n",
       "      <td>17.0</td>\n",
       "      <td>60.0</td>\n",
       "      <td>0.99800</td>\n",
       "      <td>3.16</td>\n",
       "      <td>0.58</td>\n",
       "      <td>9.8</td>\n",
       "      <td>6</td>\n",
       "      <td>1</td>\n",
       "    </tr>\n",
       "    <tr>\n",
       "      <th>5</th>\n",
       "      <td>7.4</td>\n",
       "      <td>0.660</td>\n",
       "      <td>0.00</td>\n",
       "      <td>1.8</td>\n",
       "      <td>0.075</td>\n",
       "      <td>13.0</td>\n",
       "      <td>40.0</td>\n",
       "      <td>0.99780</td>\n",
       "      <td>3.51</td>\n",
       "      <td>0.56</td>\n",
       "      <td>9.4</td>\n",
       "      <td>5</td>\n",
       "      <td>1</td>\n",
       "    </tr>\n",
       "    <tr>\n",
       "      <th>...</th>\n",
       "      <td>...</td>\n",
       "      <td>...</td>\n",
       "      <td>...</td>\n",
       "      <td>...</td>\n",
       "      <td>...</td>\n",
       "      <td>...</td>\n",
       "      <td>...</td>\n",
       "      <td>...</td>\n",
       "      <td>...</td>\n",
       "      <td>...</td>\n",
       "      <td>...</td>\n",
       "      <td>...</td>\n",
       "      <td>...</td>\n",
       "    </tr>\n",
       "    <tr>\n",
       "      <th>1593</th>\n",
       "      <td>6.8</td>\n",
       "      <td>0.620</td>\n",
       "      <td>0.08</td>\n",
       "      <td>1.9</td>\n",
       "      <td>0.068</td>\n",
       "      <td>28.0</td>\n",
       "      <td>38.0</td>\n",
       "      <td>0.99651</td>\n",
       "      <td>3.42</td>\n",
       "      <td>0.82</td>\n",
       "      <td>9.5</td>\n",
       "      <td>6</td>\n",
       "      <td>1</td>\n",
       "    </tr>\n",
       "    <tr>\n",
       "      <th>1594</th>\n",
       "      <td>6.2</td>\n",
       "      <td>0.600</td>\n",
       "      <td>0.08</td>\n",
       "      <td>2.0</td>\n",
       "      <td>0.090</td>\n",
       "      <td>32.0</td>\n",
       "      <td>44.0</td>\n",
       "      <td>0.99490</td>\n",
       "      <td>3.45</td>\n",
       "      <td>0.58</td>\n",
       "      <td>10.5</td>\n",
       "      <td>5</td>\n",
       "      <td>1</td>\n",
       "    </tr>\n",
       "    <tr>\n",
       "      <th>1595</th>\n",
       "      <td>5.9</td>\n",
       "      <td>0.550</td>\n",
       "      <td>0.10</td>\n",
       "      <td>2.2</td>\n",
       "      <td>0.062</td>\n",
       "      <td>39.0</td>\n",
       "      <td>51.0</td>\n",
       "      <td>0.99512</td>\n",
       "      <td>3.52</td>\n",
       "      <td>0.76</td>\n",
       "      <td>11.2</td>\n",
       "      <td>6</td>\n",
       "      <td>1</td>\n",
       "    </tr>\n",
       "    <tr>\n",
       "      <th>1597</th>\n",
       "      <td>5.9</td>\n",
       "      <td>0.645</td>\n",
       "      <td>0.12</td>\n",
       "      <td>2.0</td>\n",
       "      <td>0.075</td>\n",
       "      <td>32.0</td>\n",
       "      <td>44.0</td>\n",
       "      <td>0.99547</td>\n",
       "      <td>3.57</td>\n",
       "      <td>0.71</td>\n",
       "      <td>10.2</td>\n",
       "      <td>5</td>\n",
       "      <td>1</td>\n",
       "    </tr>\n",
       "    <tr>\n",
       "      <th>1598</th>\n",
       "      <td>6.0</td>\n",
       "      <td>0.310</td>\n",
       "      <td>0.47</td>\n",
       "      <td>3.6</td>\n",
       "      <td>0.067</td>\n",
       "      <td>18.0</td>\n",
       "      <td>42.0</td>\n",
       "      <td>0.99549</td>\n",
       "      <td>3.39</td>\n",
       "      <td>0.66</td>\n",
       "      <td>11.0</td>\n",
       "      <td>6</td>\n",
       "      <td>1</td>\n",
       "    </tr>\n",
       "  </tbody>\n",
       "</table>\n",
       "<p>1359 rows × 13 columns</p>\n",
       "</div>"
      ],
      "text/plain": [
       "      fixed acidity  volatile acidity  citric acid  residual sugar  chlorides  \\\n",
       "0               7.4             0.700         0.00             1.9      0.076   \n",
       "1               7.8             0.880         0.00             2.6      0.098   \n",
       "2               7.8             0.760         0.04             2.3      0.092   \n",
       "3              11.2             0.280         0.56             1.9      0.075   \n",
       "5               7.4             0.660         0.00             1.8      0.075   \n",
       "...             ...               ...          ...             ...        ...   \n",
       "1593            6.8             0.620         0.08             1.9      0.068   \n",
       "1594            6.2             0.600         0.08             2.0      0.090   \n",
       "1595            5.9             0.550         0.10             2.2      0.062   \n",
       "1597            5.9             0.645         0.12             2.0      0.075   \n",
       "1598            6.0             0.310         0.47             3.6      0.067   \n",
       "\n",
       "      free sulfur dioxide  total sulfur dioxide  density    pH  sulphates  \\\n",
       "0                    11.0                  34.0  0.99780  3.51       0.56   \n",
       "1                    25.0                  67.0  0.99680  3.20       0.68   \n",
       "2                    15.0                  54.0  0.99700  3.26       0.65   \n",
       "3                    17.0                  60.0  0.99800  3.16       0.58   \n",
       "5                    13.0                  40.0  0.99780  3.51       0.56   \n",
       "...                   ...                   ...      ...   ...        ...   \n",
       "1593                 28.0                  38.0  0.99651  3.42       0.82   \n",
       "1594                 32.0                  44.0  0.99490  3.45       0.58   \n",
       "1595                 39.0                  51.0  0.99512  3.52       0.76   \n",
       "1597                 32.0                  44.0  0.99547  3.57       0.71   \n",
       "1598                 18.0                  42.0  0.99549  3.39       0.66   \n",
       "\n",
       "      alcohol  quality  is_red  \n",
       "0         9.4        5       1  \n",
       "1         9.8        5       1  \n",
       "2         9.8        5       1  \n",
       "3         9.8        6       1  \n",
       "5         9.4        5       1  \n",
       "...       ...      ...     ...  \n",
       "1593      9.5        6       1  \n",
       "1594     10.5        5       1  \n",
       "1595     11.2        6       1  \n",
       "1597     10.2        5       1  \n",
       "1598     11.0        6       1  \n",
       "\n",
       "[1359 rows x 13 columns]"
      ]
     },
     "execution_count": 13,
     "metadata": {},
     "output_type": "execute_result"
    }
   ],
   "source": [
    "## Please uncomment all lines in this cell and replace those marked with `# YOUR CODE HERE`.\n",
    "## You can select all lines in this code cell with Ctrl+A (Windows/Linux) or Cmd+A (Mac), then press Ctrl+/ (Windows/Linux) or Cmd+/ (Mac) to uncomment.\n",
    "\n",
    "\n",
    "\n",
    "# # URL of the red wine dataset\n",
    "URI = './winequality-red.csv'\n",
    "\n",
    "# # load the dataset from the URL\n",
    "red_df = pd.read_csv(URI, sep=\";\")\n",
    "\n",
    "# # fill the `is_red` column with ones.\n",
    "red_df[\"is_red\"] = 1\n",
    "\n",
    "# # keep only the first of duplicate items\n",
    "red_df = red_df.drop_duplicates(keep='first')\n",
    "\n",
    "red_df\n"
   ]
  },
  {
   "cell_type": "code",
   "execution_count": 14,
   "metadata": {
    "deletable": false,
    "editable": false,
    "nbgrader": {
     "cell_type": "code",
     "checksum": "d8e0c91b0fd668b63ba74a8f2f958b59",
     "grade": true,
     "grade_id": "cell-2a75937adcc0c25b",
     "locked": true,
     "points": 1,
     "schema_version": 3,
     "solution": false,
     "task": false
    }
   },
   "outputs": [
    {
     "name": "stdout",
     "output_type": "stream",
     "text": [
      "\u001b[92m All public tests passed\n"
     ]
    }
   ],
   "source": [
    "utils.test_red_df(red_df)\n"
   ]
  },
  {
   "cell_type": "code",
   "execution_count": 15,
   "metadata": {
    "colab": {},
    "colab_type": "code",
    "id": "zsB3LUzNQpo_"
   },
   "outputs": [
    {
     "name": "stdout",
     "output_type": "stream",
     "text": [
      "9.4\n",
      "10.2\n"
     ]
    }
   ],
   "source": [
    "print(red_df.alcohol[0])\n",
    "print(red_df.alcohol[100])\n",
    "\n",
    "# EXPECTED OUTPUT\n",
    "# 9.4\n",
    "# 10.2"
   ]
  },
  {
   "cell_type": "markdown",
   "metadata": {
    "colab_type": "text",
    "id": "2G8B-NYuM6-f"
   },
   "source": [
    "### Concatenate the datasets\n",
    "\n",
    "Next, concatenate the red and white wine dataframes."
   ]
  },
  {
   "cell_type": "code",
   "execution_count": 18,
   "metadata": {
    "colab": {},
    "colab_type": "code",
    "id": "YpQrOjJbfN3m"
   },
   "outputs": [
    {
     "data": {
      "text/html": [
       "<div>\n",
       "<style scoped>\n",
       "    .dataframe tbody tr th:only-of-type {\n",
       "        vertical-align: middle;\n",
       "    }\n",
       "\n",
       "    .dataframe tbody tr th {\n",
       "        vertical-align: top;\n",
       "    }\n",
       "\n",
       "    .dataframe thead th {\n",
       "        text-align: right;\n",
       "    }\n",
       "</style>\n",
       "<table border=\"1\" class=\"dataframe\">\n",
       "  <thead>\n",
       "    <tr style=\"text-align: right;\">\n",
       "      <th></th>\n",
       "      <th>fixed acidity</th>\n",
       "      <th>volatile acidity</th>\n",
       "      <th>citric acid</th>\n",
       "      <th>residual sugar</th>\n",
       "      <th>chlorides</th>\n",
       "      <th>free sulfur dioxide</th>\n",
       "      <th>total sulfur dioxide</th>\n",
       "      <th>density</th>\n",
       "      <th>pH</th>\n",
       "      <th>sulphates</th>\n",
       "      <th>alcohol</th>\n",
       "      <th>quality</th>\n",
       "      <th>is_red</th>\n",
       "    </tr>\n",
       "  </thead>\n",
       "  <tbody>\n",
       "    <tr>\n",
       "      <th>0</th>\n",
       "      <td>7.4</td>\n",
       "      <td>0.70</td>\n",
       "      <td>0.00</td>\n",
       "      <td>1.9</td>\n",
       "      <td>0.076</td>\n",
       "      <td>11.0</td>\n",
       "      <td>34.0</td>\n",
       "      <td>0.99780</td>\n",
       "      <td>3.51</td>\n",
       "      <td>0.56</td>\n",
       "      <td>9.4</td>\n",
       "      <td>5</td>\n",
       "      <td>1</td>\n",
       "    </tr>\n",
       "    <tr>\n",
       "      <th>1</th>\n",
       "      <td>7.8</td>\n",
       "      <td>0.88</td>\n",
       "      <td>0.00</td>\n",
       "      <td>2.6</td>\n",
       "      <td>0.098</td>\n",
       "      <td>25.0</td>\n",
       "      <td>67.0</td>\n",
       "      <td>0.99680</td>\n",
       "      <td>3.20</td>\n",
       "      <td>0.68</td>\n",
       "      <td>9.8</td>\n",
       "      <td>5</td>\n",
       "      <td>1</td>\n",
       "    </tr>\n",
       "    <tr>\n",
       "      <th>2</th>\n",
       "      <td>7.8</td>\n",
       "      <td>0.76</td>\n",
       "      <td>0.04</td>\n",
       "      <td>2.3</td>\n",
       "      <td>0.092</td>\n",
       "      <td>15.0</td>\n",
       "      <td>54.0</td>\n",
       "      <td>0.99700</td>\n",
       "      <td>3.26</td>\n",
       "      <td>0.65</td>\n",
       "      <td>9.8</td>\n",
       "      <td>5</td>\n",
       "      <td>1</td>\n",
       "    </tr>\n",
       "    <tr>\n",
       "      <th>3</th>\n",
       "      <td>11.2</td>\n",
       "      <td>0.28</td>\n",
       "      <td>0.56</td>\n",
       "      <td>1.9</td>\n",
       "      <td>0.075</td>\n",
       "      <td>17.0</td>\n",
       "      <td>60.0</td>\n",
       "      <td>0.99800</td>\n",
       "      <td>3.16</td>\n",
       "      <td>0.58</td>\n",
       "      <td>9.8</td>\n",
       "      <td>6</td>\n",
       "      <td>1</td>\n",
       "    </tr>\n",
       "    <tr>\n",
       "      <th>4</th>\n",
       "      <td>7.4</td>\n",
       "      <td>0.66</td>\n",
       "      <td>0.00</td>\n",
       "      <td>1.8</td>\n",
       "      <td>0.075</td>\n",
       "      <td>13.0</td>\n",
       "      <td>40.0</td>\n",
       "      <td>0.99780</td>\n",
       "      <td>3.51</td>\n",
       "      <td>0.56</td>\n",
       "      <td>9.4</td>\n",
       "      <td>5</td>\n",
       "      <td>1</td>\n",
       "    </tr>\n",
       "    <tr>\n",
       "      <th>...</th>\n",
       "      <td>...</td>\n",
       "      <td>...</td>\n",
       "      <td>...</td>\n",
       "      <td>...</td>\n",
       "      <td>...</td>\n",
       "      <td>...</td>\n",
       "      <td>...</td>\n",
       "      <td>...</td>\n",
       "      <td>...</td>\n",
       "      <td>...</td>\n",
       "      <td>...</td>\n",
       "      <td>...</td>\n",
       "      <td>...</td>\n",
       "    </tr>\n",
       "    <tr>\n",
       "      <th>5315</th>\n",
       "      <td>6.2</td>\n",
       "      <td>0.21</td>\n",
       "      <td>0.29</td>\n",
       "      <td>1.6</td>\n",
       "      <td>0.039</td>\n",
       "      <td>24.0</td>\n",
       "      <td>92.0</td>\n",
       "      <td>0.99114</td>\n",
       "      <td>3.27</td>\n",
       "      <td>0.50</td>\n",
       "      <td>11.2</td>\n",
       "      <td>6</td>\n",
       "      <td>0</td>\n",
       "    </tr>\n",
       "    <tr>\n",
       "      <th>5316</th>\n",
       "      <td>6.6</td>\n",
       "      <td>0.32</td>\n",
       "      <td>0.36</td>\n",
       "      <td>8.0</td>\n",
       "      <td>0.047</td>\n",
       "      <td>57.0</td>\n",
       "      <td>168.0</td>\n",
       "      <td>0.99490</td>\n",
       "      <td>3.15</td>\n",
       "      <td>0.46</td>\n",
       "      <td>9.6</td>\n",
       "      <td>5</td>\n",
       "      <td>0</td>\n",
       "    </tr>\n",
       "    <tr>\n",
       "      <th>5317</th>\n",
       "      <td>6.5</td>\n",
       "      <td>0.24</td>\n",
       "      <td>0.19</td>\n",
       "      <td>1.2</td>\n",
       "      <td>0.041</td>\n",
       "      <td>30.0</td>\n",
       "      <td>111.0</td>\n",
       "      <td>0.99254</td>\n",
       "      <td>2.99</td>\n",
       "      <td>0.46</td>\n",
       "      <td>9.4</td>\n",
       "      <td>6</td>\n",
       "      <td>0</td>\n",
       "    </tr>\n",
       "    <tr>\n",
       "      <th>5318</th>\n",
       "      <td>5.5</td>\n",
       "      <td>0.29</td>\n",
       "      <td>0.30</td>\n",
       "      <td>1.1</td>\n",
       "      <td>0.022</td>\n",
       "      <td>20.0</td>\n",
       "      <td>110.0</td>\n",
       "      <td>0.98869</td>\n",
       "      <td>3.34</td>\n",
       "      <td>0.38</td>\n",
       "      <td>12.8</td>\n",
       "      <td>7</td>\n",
       "      <td>0</td>\n",
       "    </tr>\n",
       "    <tr>\n",
       "      <th>5319</th>\n",
       "      <td>6.0</td>\n",
       "      <td>0.21</td>\n",
       "      <td>0.38</td>\n",
       "      <td>0.8</td>\n",
       "      <td>0.020</td>\n",
       "      <td>22.0</td>\n",
       "      <td>98.0</td>\n",
       "      <td>0.98941</td>\n",
       "      <td>3.26</td>\n",
       "      <td>0.32</td>\n",
       "      <td>11.8</td>\n",
       "      <td>6</td>\n",
       "      <td>0</td>\n",
       "    </tr>\n",
       "  </tbody>\n",
       "</table>\n",
       "<p>5320 rows × 13 columns</p>\n",
       "</div>"
      ],
      "text/plain": [
       "      fixed acidity  volatile acidity  citric acid  residual sugar  chlorides  \\\n",
       "0               7.4              0.70         0.00             1.9      0.076   \n",
       "1               7.8              0.88         0.00             2.6      0.098   \n",
       "2               7.8              0.76         0.04             2.3      0.092   \n",
       "3              11.2              0.28         0.56             1.9      0.075   \n",
       "4               7.4              0.66         0.00             1.8      0.075   \n",
       "...             ...               ...          ...             ...        ...   \n",
       "5315            6.2              0.21         0.29             1.6      0.039   \n",
       "5316            6.6              0.32         0.36             8.0      0.047   \n",
       "5317            6.5              0.24         0.19             1.2      0.041   \n",
       "5318            5.5              0.29         0.30             1.1      0.022   \n",
       "5319            6.0              0.21         0.38             0.8      0.020   \n",
       "\n",
       "      free sulfur dioxide  total sulfur dioxide  density    pH  sulphates  \\\n",
       "0                    11.0                  34.0  0.99780  3.51       0.56   \n",
       "1                    25.0                  67.0  0.99680  3.20       0.68   \n",
       "2                    15.0                  54.0  0.99700  3.26       0.65   \n",
       "3                    17.0                  60.0  0.99800  3.16       0.58   \n",
       "4                    13.0                  40.0  0.99780  3.51       0.56   \n",
       "...                   ...                   ...      ...   ...        ...   \n",
       "5315                 24.0                  92.0  0.99114  3.27       0.50   \n",
       "5316                 57.0                 168.0  0.99490  3.15       0.46   \n",
       "5317                 30.0                 111.0  0.99254  2.99       0.46   \n",
       "5318                 20.0                 110.0  0.98869  3.34       0.38   \n",
       "5319                 22.0                  98.0  0.98941  3.26       0.32   \n",
       "\n",
       "      alcohol  quality  is_red  \n",
       "0         9.4        5       1  \n",
       "1         9.8        5       1  \n",
       "2         9.8        5       1  \n",
       "3         9.8        6       1  \n",
       "4         9.4        5       1  \n",
       "...       ...      ...     ...  \n",
       "5315     11.2        6       0  \n",
       "5316      9.6        5       0  \n",
       "5317      9.4        6       0  \n",
       "5318     12.8        7       0  \n",
       "5319     11.8        6       0  \n",
       "\n",
       "[5320 rows x 13 columns]"
      ]
     },
     "execution_count": 18,
     "metadata": {},
     "output_type": "execute_result"
    }
   ],
   "source": [
    "df = pd.concat([red_df, white_df], ignore_index=True)\n",
    "df"
   ]
  },
  {
   "cell_type": "code",
   "execution_count": 17,
   "metadata": {
    "colab": {},
    "colab_type": "code",
    "id": "Se2dTmThQyjb"
   },
   "outputs": [
    {
     "name": "stdout",
     "output_type": "stream",
     "text": [
      "9.4\n",
      "9.5\n"
     ]
    }
   ],
   "source": [
    "print(df.alcohol[0])\n",
    "print(df.alcohol[100])\n",
    "\n",
    "# EXPECTED OUTPUT\n",
    "# 9.4\n",
    "# 9.5"
   ]
  },
  {
   "cell_type": "markdown",
   "metadata": {},
   "source": [
    "In a real-world scenario, you should shuffle the data. For this assignment however, **you are not** going to do that because the grader needs to test with deterministic data. If you want the code to do it **after** you've gotten your grade for this notebook, we left the commented line below for reference"
   ]
  },
  {
   "cell_type": "code",
   "execution_count": null,
   "metadata": {
    "colab": {},
    "colab_type": "code",
    "id": "wx6y3rPpQv4k"
   },
   "outputs": [],
   "source": [
    "#df = df.iloc[np.random.permutation(len(df))]"
   ]
  },
  {
   "cell_type": "markdown",
   "metadata": {
    "colab_type": "text",
    "id": "-EqIcbg5M_n1"
   },
   "source": [
    "This will chart the quality of the wines."
   ]
  },
  {
   "cell_type": "code",
   "execution_count": 19,
   "metadata": {
    "colab": {},
    "colab_type": "code",
    "id": "IsvK0-Sgy17C"
   },
   "outputs": [
    {
     "data": {
      "image/png": "[encoded data removed]",
      "text/plain": [
       "<Figure size 432x288 with 1 Axes>"
      ]
     },
     "metadata": {
      "needs_background": "light"
     },
     "output_type": "display_data"
    }
   ],
   "source": [
    "df['quality'].hist(bins=20);"
   ]
  },
  {
   "cell_type": "markdown",
   "metadata": {
    "colab_type": "text",
    "id": "Nut1rmYLzf-p"
   },
   "source": [
    "### Imbalanced data (TODO)\n",
    "You can see from the plot above that the wine quality dataset is imbalanced. \n",
    "- Since there are very few observations with quality equal to 3, 4, 8 and 9, you can drop these observations from your dataset. \n",
    "- You can do this by removing data belonging to all classes except those > 4 and < 8."
   ]
  },
  {
   "cell_type": "code",
   "execution_count": 21,
   "metadata": {
    "colab": {},
    "colab_type": "code",
    "deletable": false,
    "id": "doH9_-gnf3sz",
    "nbgrader": {
     "cell_type": "code",
     "checksum": "d9ba9fc3a3ca02ccc567be33652b80fe",
     "grade": false,
     "grade_id": "cell-6a3e9db696f6827b",
     "locked": false,
     "schema_version": 3,
     "solution": true,
     "task": false
    }
   },
   "outputs": [],
   "source": [
    "## Please uncomment all lines in this cell and replace those marked with `# YOUR CODE HERE`.\n",
    "## You can select all lines in this code cell with Ctrl+A (Windows/Linux) or Cmd+A (Mac), then press Ctrl+/ (Windows/Linux) or Cmd+/ (Mac) to uncomment.\n",
    "\n",
    "\n",
    "\n",
    "# # get data with wine quality greater than 4 and less than 8\n",
    "df = df[(df['quality'] > 4) & (df['quality'] < 8)]\n",
    "\n",
    "# # reset index and drop the old one\n",
    "df = df.reset_index(drop=True)"
   ]
  },
  {
   "cell_type": "code",
   "execution_count": 22,
   "metadata": {
    "deletable": false,
    "editable": false,
    "nbgrader": {
     "cell_type": "code",
     "checksum": "281e1d86a4803560ed5892cd7eda4c01",
     "grade": true,
     "grade_id": "cell-aed3da719d4682c7",
     "locked": true,
     "points": 1,
     "schema_version": 3,
     "solution": false,
     "task": false
    }
   },
   "outputs": [
    {
     "name": "stdout",
     "output_type": "stream",
     "text": [
      "\u001b[92m All public tests passed\n"
     ]
    }
   ],
   "source": [
    "utils.test_df_drop(df)\n",
    "\n"
   ]
  },
  {
   "cell_type": "code",
   "execution_count": 23,
   "metadata": {
    "colab": {},
    "colab_type": "code",
    "id": "xNR1iAlMRPXO"
   },
   "outputs": [
    {
     "name": "stdout",
     "output_type": "stream",
     "text": [
      "9.4\n",
      "10.9\n"
     ]
    }
   ],
   "source": [
    "print(df.alcohol[0])\n",
    "print(df.alcohol[100])\n",
    "\n",
    "# EXPECTED OUTPUT\n",
    "# 9.4\n",
    "# 10.9"
   ]
  },
  {
   "cell_type": "markdown",
   "metadata": {
    "colab_type": "text",
    "id": "cwhuRpnVRTzG"
   },
   "source": [
    "You can plot again to see the new range of data and quality"
   ]
  },
  {
   "cell_type": "code",
   "execution_count": 24,
   "metadata": {
    "colab": {},
    "colab_type": "code",
    "id": "857ygzZiLgGg"
   },
   "outputs": [
    {
     "data": {
      "image/png": "[encoded data removed]",
      "text/plain": [
       "<Figure size 432x288 with 1 Axes>"
      ]
     },
     "metadata": {
      "needs_background": "light"
     },
     "output_type": "display_data"
    }
   ],
   "source": [
    "df['quality'].hist(bins=20);"
   ]
  },
  {
   "cell_type": "markdown",
   "metadata": {
    "colab_type": "text",
    "id": "n3k0vqSsp84t"
   },
   "source": [
    "### Train Test Split (TODO)\n",
    "\n",
    "Next, you can split the datasets into training, test and validation datasets.\n",
    "- The data frame should be split 80:20 into `train` and `test` sets.\n",
    "- The resulting `train` should then be split 80:20 into `train` and `val` sets.\n",
    "- The `train_test_split` parameter `test_size` takes a float value that ranges between 0. and 1, and represents the proportion of the dataset that is allocated to the test set.  The rest of the data is allocated to the training set."
   ]
  },
  {
   "cell_type": "code",
   "execution_count": 26,
   "metadata": {
    "colab": {},
    "colab_type": "code",
    "deletable": false,
    "id": "PAVIf2-fgRVY",
    "nbgrader": {
     "cell_type": "code",
     "checksum": "7f5738f4fb51d65adc9a8acbdf2b9970",
     "grade": false,
     "grade_id": "cell-91946cadf745206b",
     "locked": false,
     "schema_version": 3,
     "solution": true,
     "task": false
    }
   },
   "outputs": [],
   "source": [
    "## Please uncomment all lines in this cell and replace those marked with `# YOUR CODE HERE`.\n",
    "## You can select all lines in this code cell with Ctrl+A (Windows/Linux) or Cmd+A (Mac), then press Ctrl+/ (Windows/Linux) or Cmd+/ (Mac) to uncomment.\n",
    "\n",
    "\n",
    "\n",
    "## Please do not change the random_state parameter. This is needed for grading.\n",
    "\n",
    "# # split df into 80:20 train and test sets\n",
    "train, test = train_test_split(df, test_size= 0.2, random_state = 1)\n",
    "                               \n",
    "# # split train into 80:20 train and val sets\n",
    "train, val = train_test_split(train, test_size=0.2, random_state = 1)"
   ]
  },
  {
   "cell_type": "code",
   "execution_count": 27,
   "metadata": {
    "colab": {},
    "colab_type": "code",
    "deletable": false,
    "editable": false,
    "id": "57h9LcEzRWpk",
    "nbgrader": {
     "cell_type": "code",
     "checksum": "42adbe9e66efac7c7a5f8cd73ac92f22",
     "grade": true,
     "grade_id": "cell-64b8b38cd0b965f6",
     "locked": true,
     "points": 1,
     "schema_version": 3,
     "solution": false,
     "task": false
    }
   },
   "outputs": [
    {
     "name": "stdout",
     "output_type": "stream",
     "text": [
      "\u001b[92m All public tests passed\n"
     ]
    }
   ],
   "source": [
    "utils.test_data_sizes(train.size, test.size, val.size)\n",
    "\n"
   ]
  },
  {
   "cell_type": "markdown",
   "metadata": {
    "colab_type": "text",
    "id": "RwTNu4KFqG-K"
   },
   "source": [
    "Here's where you can explore the training stats. You can pop the labels 'is_red' and 'quality' from the data as these will be used as the labels\n"
   ]
  },
  {
   "cell_type": "code",
   "execution_count": 28,
   "metadata": {
    "colab": {},
    "colab_type": "code",
    "id": "Y_afyhhHM6WQ"
   },
   "outputs": [],
   "source": [
    "train_stats = train.describe()\n",
    "train_stats.pop('is_red')\n",
    "train_stats.pop('quality')\n",
    "train_stats = train_stats.transpose()"
   ]
  },
  {
   "cell_type": "markdown",
   "metadata": {
    "colab_type": "text",
    "id": "ahvbYm4fNqSt"
   },
   "source": [
    "Explore the training stats!"
   ]
  },
  {
   "cell_type": "code",
   "execution_count": 29,
   "metadata": {
    "colab": {},
    "colab_type": "code",
    "id": "n_gAtPjZ0otF"
   },
   "outputs": [
    {
     "data": {
      "text/html": [
       "<div>\n",
       "<style scoped>\n",
       "    .dataframe tbody tr th:only-of-type {\n",
       "        vertical-align: middle;\n",
       "    }\n",
       "\n",
       "    .dataframe tbody tr th {\n",
       "        vertical-align: top;\n",
       "    }\n",
       "\n",
       "    .dataframe thead th {\n",
       "        text-align: right;\n",
       "    }\n",
       "</style>\n",
       "<table border=\"1\" class=\"dataframe\">\n",
       "  <thead>\n",
       "    <tr style=\"text-align: right;\">\n",
       "      <th></th>\n",
       "      <th>count</th>\n",
       "      <th>mean</th>\n",
       "      <th>std</th>\n",
       "      <th>min</th>\n",
       "      <th>25%</th>\n",
       "      <th>50%</th>\n",
       "      <th>75%</th>\n",
       "      <th>max</th>\n",
       "    </tr>\n",
       "  </thead>\n",
       "  <tbody>\n",
       "    <tr>\n",
       "      <th>fixed acidity</th>\n",
       "      <td>3155.0</td>\n",
       "      <td>7.221616</td>\n",
       "      <td>1.325297</td>\n",
       "      <td>3.80000</td>\n",
       "      <td>6.40000</td>\n",
       "      <td>7.00000</td>\n",
       "      <td>7.7000</td>\n",
       "      <td>15.60000</td>\n",
       "    </tr>\n",
       "    <tr>\n",
       "      <th>volatile acidity</th>\n",
       "      <td>3155.0</td>\n",
       "      <td>0.338929</td>\n",
       "      <td>0.162476</td>\n",
       "      <td>0.08000</td>\n",
       "      <td>0.23000</td>\n",
       "      <td>0.29000</td>\n",
       "      <td>0.4000</td>\n",
       "      <td>1.24000</td>\n",
       "    </tr>\n",
       "    <tr>\n",
       "      <th>citric acid</th>\n",
       "      <td>3155.0</td>\n",
       "      <td>0.321569</td>\n",
       "      <td>0.147970</td>\n",
       "      <td>0.00000</td>\n",
       "      <td>0.25000</td>\n",
       "      <td>0.31000</td>\n",
       "      <td>0.4000</td>\n",
       "      <td>1.66000</td>\n",
       "    </tr>\n",
       "    <tr>\n",
       "      <th>residual sugar</th>\n",
       "      <td>3155.0</td>\n",
       "      <td>5.155911</td>\n",
       "      <td>4.639632</td>\n",
       "      <td>0.60000</td>\n",
       "      <td>1.80000</td>\n",
       "      <td>2.80000</td>\n",
       "      <td>7.6500</td>\n",
       "      <td>65.80000</td>\n",
       "    </tr>\n",
       "    <tr>\n",
       "      <th>chlorides</th>\n",
       "      <td>3155.0</td>\n",
       "      <td>0.056976</td>\n",
       "      <td>0.036802</td>\n",
       "      <td>0.01200</td>\n",
       "      <td>0.03800</td>\n",
       "      <td>0.04700</td>\n",
       "      <td>0.0660</td>\n",
       "      <td>0.61100</td>\n",
       "    </tr>\n",
       "    <tr>\n",
       "      <th>free sulfur dioxide</th>\n",
       "      <td>3155.0</td>\n",
       "      <td>30.388590</td>\n",
       "      <td>17.236784</td>\n",
       "      <td>1.00000</td>\n",
       "      <td>17.00000</td>\n",
       "      <td>28.00000</td>\n",
       "      <td>41.0000</td>\n",
       "      <td>131.00000</td>\n",
       "    </tr>\n",
       "    <tr>\n",
       "      <th>total sulfur dioxide</th>\n",
       "      <td>3155.0</td>\n",
       "      <td>115.062282</td>\n",
       "      <td>56.706617</td>\n",
       "      <td>6.00000</td>\n",
       "      <td>75.00000</td>\n",
       "      <td>117.00000</td>\n",
       "      <td>156.0000</td>\n",
       "      <td>344.00000</td>\n",
       "    </tr>\n",
       "    <tr>\n",
       "      <th>density</th>\n",
       "      <td>3155.0</td>\n",
       "      <td>0.994633</td>\n",
       "      <td>0.003005</td>\n",
       "      <td>0.98711</td>\n",
       "      <td>0.99232</td>\n",
       "      <td>0.99481</td>\n",
       "      <td>0.9968</td>\n",
       "      <td>1.03898</td>\n",
       "    </tr>\n",
       "    <tr>\n",
       "      <th>pH</th>\n",
       "      <td>3155.0</td>\n",
       "      <td>3.223201</td>\n",
       "      <td>0.161272</td>\n",
       "      <td>2.72000</td>\n",
       "      <td>3.11000</td>\n",
       "      <td>3.21000</td>\n",
       "      <td>3.3300</td>\n",
       "      <td>4.01000</td>\n",
       "    </tr>\n",
       "    <tr>\n",
       "      <th>sulphates</th>\n",
       "      <td>3155.0</td>\n",
       "      <td>0.534051</td>\n",
       "      <td>0.149149</td>\n",
       "      <td>0.22000</td>\n",
       "      <td>0.43000</td>\n",
       "      <td>0.51000</td>\n",
       "      <td>0.6000</td>\n",
       "      <td>1.95000</td>\n",
       "    </tr>\n",
       "    <tr>\n",
       "      <th>alcohol</th>\n",
       "      <td>3155.0</td>\n",
       "      <td>10.504466</td>\n",
       "      <td>1.154654</td>\n",
       "      <td>8.50000</td>\n",
       "      <td>9.50000</td>\n",
       "      <td>10.30000</td>\n",
       "      <td>11.3000</td>\n",
       "      <td>14.00000</td>\n",
       "    </tr>\n",
       "  </tbody>\n",
       "</table>\n",
       "</div>"
      ],
      "text/plain": [
       "                       count        mean        std      min       25%  \\\n",
       "fixed acidity         3155.0    7.221616   1.325297  3.80000   6.40000   \n",
       "volatile acidity      3155.0    0.338929   0.162476  0.08000   0.23000   \n",
       "citric acid           3155.0    0.321569   0.147970  0.00000   0.25000   \n",
       "residual sugar        3155.0    5.155911   4.639632  0.60000   1.80000   \n",
       "chlorides             3155.0    0.056976   0.036802  0.01200   0.03800   \n",
       "free sulfur dioxide   3155.0   30.388590  17.236784  1.00000  17.00000   \n",
       "total sulfur dioxide  3155.0  115.062282  56.706617  6.00000  75.00000   \n",
       "density               3155.0    0.994633   0.003005  0.98711   0.99232   \n",
       "pH                    3155.0    3.223201   0.161272  2.72000   3.11000   \n",
       "sulphates             3155.0    0.534051   0.149149  0.22000   0.43000   \n",
       "alcohol               3155.0   10.504466   1.154654  8.50000   9.50000   \n",
       "\n",
       "                            50%       75%        max  \n",
       "fixed acidity           7.00000    7.7000   15.60000  \n",
       "volatile acidity        0.29000    0.4000    1.24000  \n",
       "citric acid             0.31000    0.4000    1.66000  \n",
       "residual sugar          2.80000    7.6500   65.80000  \n",
       "chlorides               0.04700    0.0660    0.61100  \n",
       "free sulfur dioxide    28.00000   41.0000  131.00000  \n",
       "total sulfur dioxide  117.00000  156.0000  344.00000  \n",
       "density                 0.99481    0.9968    1.03898  \n",
       "pH                      3.21000    3.3300    4.01000  \n",
       "sulphates               0.51000    0.6000    1.95000  \n",
       "alcohol                10.30000   11.3000   14.00000  "
      ]
     },
     "execution_count": 29,
     "metadata": {},
     "output_type": "execute_result"
    }
   ],
   "source": [
    "train_stats"
   ]
  },
  {
   "cell_type": "markdown",
   "metadata": {
    "colab_type": "text",
    "id": "bGPvt9jir_HC"
   },
   "source": [
    "### Get the labels (TODO)\n",
    "\n",
    "The features and labels are currently in the same dataframe.\n",
    "- You will want to store the label columns `is_red` and `quality` separately from the feature columns.  \n",
    "- The following function, `format_output`, gets these two columns from the dataframe (it's given to you).\n",
    "- `format_output` also formats the data into numpy arrays. \n",
    "- Please use the `format_output` and apply it to the `train`, `val` and `test` sets to get dataframes for the labels."
   ]
  },
  {
   "cell_type": "code",
   "execution_count": 30,
   "metadata": {
    "colab": {},
    "colab_type": "code",
    "id": "Z_fs14XQqZVP"
   },
   "outputs": [],
   "source": [
    "def format_output(data):\n",
    "    is_red = data.pop('is_red')\n",
    "    is_red = np.array(is_red)\n",
    "    quality = data.pop('quality')\n",
    "    quality = np.array(quality)\n",
    "    return (quality, is_red)"
   ]
  },
  {
   "cell_type": "code",
   "execution_count": 31,
   "metadata": {
    "colab": {},
    "colab_type": "code",
    "deletable": false,
    "id": "8L3ZZe1fQicm",
    "nbgrader": {
     "cell_type": "code",
     "checksum": "7a86809e54895a816434c48dc903f55d",
     "grade": false,
     "grade_id": "cell-5c30fa2c2a354b0f",
     "locked": false,
     "schema_version": 3,
     "solution": true,
     "task": false
    }
   },
   "outputs": [],
   "source": [
    "## Please uncomment all lines in this cell and replace those marked with `# YOUR CODE HERE`.\n",
    "## You can select all lines in this code cell with Ctrl+A (Windows/Linux) or Cmd+A (Mac), then press Ctrl+/ (Windows/Linux) or Cmd+/ (Mac) to uncomment.\n",
    "\n",
    "\n",
    "\n",
    "# # format the output of the train set\n",
    "train_Y = format_output(train)\n",
    "\n",
    "# # format the output of the val set\n",
    "val_Y = format_output(val)\n",
    "    \n",
    "# # format the output of the test set\n",
    "test_Y = format_output(test)"
   ]
  },
  {
   "cell_type": "code",
   "execution_count": 32,
   "metadata": {
    "deletable": false,
    "editable": false,
    "nbgrader": {
     "cell_type": "code",
     "checksum": "359cabbafaed14ec9bbc1e57a7b6f32c",
     "grade": true,
     "grade_id": "cell-4977d8befb80f56b",
     "locked": true,
     "points": 1,
     "schema_version": 3,
     "solution": false,
     "task": false
    }
   },
   "outputs": [
    {
     "name": "stdout",
     "output_type": "stream",
     "text": [
      "\u001b[92m All public tests passed\n"
     ]
    }
   ],
   "source": [
    "utils.test_format_output(df, train_Y, val_Y, test_Y)"
   ]
  },
  {
   "cell_type": "markdown",
   "metadata": {},
   "source": [
    "Notice that after you get the labels, the `train`, `val` and `test` dataframes no longer contain the label columns, and contain just the feature columns.\n",
    "- This is because you used `.pop` in the `format_output` function."
   ]
  },
  {
   "cell_type": "code",
   "execution_count": 33,
   "metadata": {},
   "outputs": [
    {
     "data": {
      "text/html": [
       "<div>\n",
       "<style scoped>\n",
       "    .dataframe tbody tr th:only-of-type {\n",
       "        vertical-align: middle;\n",
       "    }\n",
       "\n",
       "    .dataframe tbody tr th {\n",
       "        vertical-align: top;\n",
       "    }\n",
       "\n",
       "    .dataframe thead th {\n",
       "        text-align: right;\n",
       "    }\n",
       "</style>\n",
       "<table border=\"1\" class=\"dataframe\">\n",
       "  <thead>\n",
       "    <tr style=\"text-align: right;\">\n",
       "      <th></th>\n",
       "      <th>fixed acidity</th>\n",
       "      <th>volatile acidity</th>\n",
       "      <th>citric acid</th>\n",
       "      <th>residual sugar</th>\n",
       "      <th>chlorides</th>\n",
       "      <th>free sulfur dioxide</th>\n",
       "      <th>total sulfur dioxide</th>\n",
       "      <th>density</th>\n",
       "      <th>pH</th>\n",
       "      <th>sulphates</th>\n",
       "      <th>alcohol</th>\n",
       "    </tr>\n",
       "  </thead>\n",
       "  <tbody>\n",
       "    <tr>\n",
       "      <th>225</th>\n",
       "      <td>7.5</td>\n",
       "      <td>0.65</td>\n",
       "      <td>0.18</td>\n",
       "      <td>7.0</td>\n",
       "      <td>0.088</td>\n",
       "      <td>27.0</td>\n",
       "      <td>94.0</td>\n",
       "      <td>0.99915</td>\n",
       "      <td>3.38</td>\n",
       "      <td>0.77</td>\n",
       "      <td>9.4</td>\n",
       "    </tr>\n",
       "    <tr>\n",
       "      <th>3557</th>\n",
       "      <td>6.3</td>\n",
       "      <td>0.27</td>\n",
       "      <td>0.29</td>\n",
       "      <td>12.2</td>\n",
       "      <td>0.044</td>\n",
       "      <td>59.0</td>\n",
       "      <td>196.0</td>\n",
       "      <td>0.99782</td>\n",
       "      <td>3.14</td>\n",
       "      <td>0.40</td>\n",
       "      <td>8.8</td>\n",
       "    </tr>\n",
       "    <tr>\n",
       "      <th>3825</th>\n",
       "      <td>8.8</td>\n",
       "      <td>0.27</td>\n",
       "      <td>0.25</td>\n",
       "      <td>5.0</td>\n",
       "      <td>0.024</td>\n",
       "      <td>52.0</td>\n",
       "      <td>99.0</td>\n",
       "      <td>0.99250</td>\n",
       "      <td>2.87</td>\n",
       "      <td>0.49</td>\n",
       "      <td>11.4</td>\n",
       "    </tr>\n",
       "    <tr>\n",
       "      <th>1740</th>\n",
       "      <td>6.4</td>\n",
       "      <td>0.45</td>\n",
       "      <td>0.07</td>\n",
       "      <td>1.1</td>\n",
       "      <td>0.030</td>\n",
       "      <td>10.0</td>\n",
       "      <td>131.0</td>\n",
       "      <td>0.99050</td>\n",
       "      <td>2.97</td>\n",
       "      <td>0.28</td>\n",
       "      <td>10.8</td>\n",
       "    </tr>\n",
       "    <tr>\n",
       "      <th>1221</th>\n",
       "      <td>7.2</td>\n",
       "      <td>0.53</td>\n",
       "      <td>0.13</td>\n",
       "      <td>2.0</td>\n",
       "      <td>0.058</td>\n",
       "      <td>18.0</td>\n",
       "      <td>22.0</td>\n",
       "      <td>0.99573</td>\n",
       "      <td>3.21</td>\n",
       "      <td>0.68</td>\n",
       "      <td>9.9</td>\n",
       "    </tr>\n",
       "  </tbody>\n",
       "</table>\n",
       "</div>"
      ],
      "text/plain": [
       "      fixed acidity  volatile acidity  citric acid  residual sugar  chlorides  \\\n",
       "225             7.5              0.65         0.18             7.0      0.088   \n",
       "3557            6.3              0.27         0.29            12.2      0.044   \n",
       "3825            8.8              0.27         0.25             5.0      0.024   \n",
       "1740            6.4              0.45         0.07             1.1      0.030   \n",
       "1221            7.2              0.53         0.13             2.0      0.058   \n",
       "\n",
       "      free sulfur dioxide  total sulfur dioxide  density    pH  sulphates  \\\n",
       "225                  27.0                  94.0  0.99915  3.38       0.77   \n",
       "3557                 59.0                 196.0  0.99782  3.14       0.40   \n",
       "3825                 52.0                  99.0  0.99250  2.87       0.49   \n",
       "1740                 10.0                 131.0  0.99050  2.97       0.28   \n",
       "1221                 18.0                  22.0  0.99573  3.21       0.68   \n",
       "\n",
       "      alcohol  \n",
       "225       9.4  \n",
       "3557      8.8  \n",
       "3825     11.4  \n",
       "1740     10.8  \n",
       "1221      9.9  "
      ]
     },
     "execution_count": 33,
     "metadata": {},
     "output_type": "execute_result"
    }
   ],
   "source": [
    "train.head()"
   ]
  },
  {
   "cell_type": "markdown",
   "metadata": {
    "colab_type": "text",
    "id": "hEdbrruAsN1D"
   },
   "source": [
    "### Normalize the data (TODO)\n",
    "\n",
    "Next, you can normalize the data, x, using the formula:\n",
    "$$x_{norm} = \\frac{x - \\mu}{\\sigma}$$\n",
    "- The `norm` function is defined for you.\n",
    "- Please apply the `norm` function to normalize the dataframes that contains the feature columns of `train`, `val` and `test` sets."
   ]
  },
  {
   "cell_type": "code",
   "execution_count": 34,
   "metadata": {
    "colab": {},
    "colab_type": "code",
    "id": "WWiZPAHCLjUs"
   },
   "outputs": [],
   "source": [
    "def norm(x):\n",
    "    return (x - train_stats['mean']) / train_stats['std']"
   ]
  },
  {
   "cell_type": "code",
   "execution_count": 35,
   "metadata": {
    "colab": {},
    "colab_type": "code",
    "deletable": false,
    "id": "JEaOi2I2Lk69",
    "nbgrader": {
     "cell_type": "code",
     "checksum": "6bc0cdcb563d192f271067aa3373ff32",
     "grade": false,
     "grade_id": "cell-d8416d975c371095",
     "locked": false,
     "schema_version": 3,
     "solution": true,
     "task": false
    }
   },
   "outputs": [],
   "source": [
    "## Please uncomment all lines in this cell and replace those marked with `# YOUR CODE HERE`.\n",
    "## You can select all lines in this code cell with Ctrl+A (Windows/Linux) or Cmd+A (Mac), then press Ctrl+/ (Windows/Linux) or Cmd+/ (Mac) to uncomment.\n",
    "\n",
    "\n",
    "\n",
    "# # normalize the train set\n",
    "norm_train_X = norm(train)\n",
    "    \n",
    "# # normalize the val set\n",
    "norm_val_X = norm(val)\n",
    "    \n",
    "# # normalize the test set\n",
    "norm_test_X = norm(test)"
   ]
  },
  {
   "cell_type": "code",
   "execution_count": 36,
   "metadata": {
    "deletable": false,
    "editable": false,
    "nbgrader": {
     "cell_type": "code",
     "checksum": "4f567db45bf40191601780379cc100b8",
     "grade": true,
     "grade_id": "cell-97fad979d157529b",
     "locked": true,
     "points": 1,
     "schema_version": 3,
     "solution": false,
     "task": false
    }
   },
   "outputs": [
    {
     "name": "stdout",
     "output_type": "stream",
     "text": [
      "\u001b[92m All public tests passed\n"
     ]
    }
   ],
   "source": [
    "utils.test_norm(norm_train_X, norm_val_X, norm_test_X, train, val, test)\n"
   ]
  },
  {
   "cell_type": "markdown",
   "metadata": {
    "colab_type": "text",
    "id": "hzykDwQhsaPO"
   },
   "source": [
    "## Define the Model (TODO)\n",
    "\n",
    "Define the model using the functional API. The base model will be 2 `Dense` layers of 128 neurons each, and have the `'relu'` activation.\n",
    "- Check out the documentation for [tf.keras.layers.Dense](https://www.tensorflow.org/api_docs/python/tf/keras/layers/Dense)"
   ]
  },
  {
   "cell_type": "code",
   "execution_count": 37,
   "metadata": {
    "colab": {},
    "colab_type": "code",
    "deletable": false,
    "id": "Rhcns3oTFkM6",
    "nbgrader": {
     "cell_type": "code",
     "checksum": "74b031247e569526552bf13a034a1c07",
     "grade": false,
     "grade_id": "cell-73fceedad1fe351c",
     "locked": false,
     "schema_version": 3,
     "solution": true,
     "task": false
    }
   },
   "outputs": [],
   "source": [
    "## Please uncomment all lines in this cell and replace those marked with `# YOUR CODE HERE`.\n",
    "## You can select all lines in this code cell with Ctrl+A (Windows/Linux) or Cmd+A (Mac), then press Ctrl+/ (Windows/Linux) or Cmd+/ (Mac) to uncomment.\n",
    "\n",
    "\n",
    "\n",
    "def base_model(inputs):\n",
    "    \n",
    "     # connect a Dense layer with 128 neurons and a relu activation\n",
    "        x = Dense(128, activation = 'relu')(inputs)\n",
    "\n",
    "    \n",
    "     # connect another Dense layer with 128 neurons and a relu activation\n",
    "        x = Dense(128, activation = 'relu')(x)\n",
    "        return x\n",
    "  "
   ]
  },
  {
   "cell_type": "code",
   "execution_count": 38,
   "metadata": {
    "deletable": false,
    "editable": false,
    "nbgrader": {
     "cell_type": "code",
     "checksum": "9255924b3def80f679616e4c851a43e1",
     "grade": true,
     "grade_id": "cell-54f742a133353d75",
     "locked": true,
     "points": 1,
     "schema_version": 3,
     "solution": false,
     "task": false
    }
   },
   "outputs": [
    {
     "name": "stdout",
     "output_type": "stream",
     "text": [
      "\u001b[92m All public tests passed\n"
     ]
    }
   ],
   "source": [
    "utils.test_base_model(base_model)"
   ]
  },
  {
   "cell_type": "markdown",
   "metadata": {
    "colab_type": "text",
    "id": "xem_fcVws6Kz"
   },
   "source": [
    "# Define output layers of the model (TODO)\n",
    "\n",
    "You will add output layers to the base model. \n",
    "- The model will need two outputs.\n",
    "\n",
    "One output layer will predict wine quality, which is a numeric value.\n",
    "- Define a `Dense` layer with 1 neuron.\n",
    "- Since this is a regression output, the activation can be left as its default value `None`.\n",
    "\n",
    "The other output layer will predict the wine type, which is either red `1` or not red `0` (white).\n",
    "- Define a `Dense` layer with 1 neuron.\n",
    "- Since there are two possible categories, you can use a sigmoid activation for binary classification.\n",
    "\n",
    "Define the `Model`\n",
    "- Define the `Model` object, and set the following parameters:\n",
    "  - `inputs`: pass in the inputs to the model as a list.\n",
    "  - `outputs`: pass in a list of the outputs that you just defined: wine quality, then wine type.\n",
    "  - **Note**: please list the wine quality before wine type in the outputs, as this will affect the calculated loss if you choose the other order."
   ]
  },
  {
   "cell_type": "code",
   "execution_count": 43,
   "metadata": {
    "colab": {},
    "colab_type": "code",
    "deletable": false,
    "id": "n5UGF8PMVLPt",
    "nbgrader": {
     "cell_type": "code",
     "checksum": "76d35b90d20cdcbb22986cd8211057de",
     "grade": false,
     "grade_id": "cell-19e285f482f021fb",
     "locked": false,
     "schema_version": 3,
     "solution": true,
     "task": false
    }
   },
   "outputs": [],
   "source": [
    "## Please uncomment all lines in this cell and replace those marked with `# YOUR CODE HERE`.\n",
    "## You can select all lines in this code cell with Ctrl+A (Windows/Linux) or Cmd+A (Mac), then press Ctrl+/ (Windows/Linux) or Cmd+/ (Mac) to uncomment.\n",
    "\n",
    "\n",
    "\n",
    "def final_model(inputs):\n",
    "    \n",
    "     # get the base model\n",
    "    x = base_model(inputs)\n",
    "\n",
    "     # connect the output Dense layer for regression\n",
    "    wine_quality = Dense(units='1', name='wine_quality')(x)\n",
    "\n",
    "#     # connect the output Dense layer for classification. this will use a sigmoid activation.\n",
    "    wine_type = Dense(units='1', activation='sigmoid', name='wine_type')(x)\n",
    "\n",
    "#     # define the model using the input and output layers\n",
    "    model = Model(inputs= inputs, outputs=[wine_quality, wine_type])\n",
    "    \n",
    "    return model"
   ]
  },
  {
   "cell_type": "code",
   "execution_count": 44,
   "metadata": {
    "deletable": false,
    "editable": false,
    "nbgrader": {
     "cell_type": "code",
     "checksum": "89cbf89d8ab5e2e59ecf7f63f517520a",
     "grade": true,
     "grade_id": "cell-40d050f855c817d1",
     "locked": true,
     "points": 1,
     "schema_version": 3,
     "solution": false,
     "task": false
    }
   },
   "outputs": [
    {
     "name": "stdout",
     "output_type": "stream",
     "text": [
      "\u001b[92m All public tests passed\n"
     ]
    }
   ],
   "source": [
    "utils.test_final_model(final_model)"
   ]
  },
  {
   "cell_type": "markdown",
   "metadata": {
    "colab_type": "text",
    "id": "5R0BMTsltZyu"
   },
   "source": [
    "## Compiling the Model\n",
    "\n",
    "Next, compile the model. When setting the loss parameter of `model.compile`, you're setting the loss for each of the two outputs (wine quality and wine type).\n",
    "\n",
    "To set more than one loss, use a dictionary of key-value pairs.\n",
    "- You can look at the docs for the losses [here](https://www.tensorflow.org/api_docs/python/tf/keras/losses#functions).\n",
    "    - **Note**: For the desired spelling, please look at the \"Functions\" section of the documentation and not the \"classes\" section on that same page.\n",
    "- wine_type: Since you will be performing binary classification on wine type, you should use the binary crossentropy loss function for it.  Please pass this in as a string.  \n",
    "  - **Hint**, this should be all lowercase.  In the documentation, you'll see this under the \"Functions\" section, not the \"Classes\" section.\n",
    "- wine_quality: since this is a regression output, use the mean squared error.  Please pass it in as a string, all lowercase.\n",
    "  - **Hint**: You may notice that there are two aliases for mean squared error.  Please use the shorter name.\n",
    "\n",
    "\n",
    "You will also set the metric for each of the two outputs.  Again, to set metrics for two or more outputs, use a dictionary with key value pairs.\n",
    "- The metrics documentation is linked [here](https://www.tensorflow.org/api_docs/python/tf/keras/metrics).\n",
    "- For the wine type, please set it to accuracy as a string, all lowercase.\n",
    "- For wine quality, please use the root mean squared error.  Instead of a string, you'll set it to an instance of the class [RootMeanSquaredError](https://www.tensorflow.org/api_docs/python/tf/keras/metrics/RootMeanSquaredError), which belongs to the tf.keras.metrics module.\n",
    "\n",
    "**Note**: If you see the error message \n",
    ">Exception: wine quality loss function is incorrect.\n",
    "\n",
    "- Please also check your other losses and metrics, as the error may be caused by the other three key-value pairs and not the wine quality loss."
   ]
  },
  {
   "cell_type": "code",
   "execution_count": 46,
   "metadata": {
    "colab": {},
    "colab_type": "code",
    "deletable": false,
    "id": "LK11duUbUjmh",
    "nbgrader": {
     "cell_type": "code",
     "checksum": "22f45067ca69eb2ccadb43874dbcc27b",
     "grade": false,
     "grade_id": "cell-81afdc4dcca51d5e",
     "locked": false,
     "schema_version": 3,
     "solution": true,
     "task": false
    }
   },
   "outputs": [],
   "source": [
    "## Please uncomment all lines in this cell and replace those marked with `# YOUR CODE HERE`.\n",
    "## You can select all lines in this code cell with Ctrl+A (Windows/Linux) or Cmd+A (Mac), then press Ctrl+/ (Windows/Linux) or Cmd+/ (Mac) to uncomment.\n",
    "\n",
    "\n",
    "\n",
    "inputs = tf.keras.layers.Input(shape=(11,))\n",
    "rms = tf.keras.optimizers.RMSprop(lr=0.0001)\n",
    "model = final_model(inputs)\n",
    "\n",
    "model.compile(optimizer=rms, \n",
    "               loss = {'wine_type' : 'binary_crossentropy' ,\n",
    "                       'wine_quality' : 'mse'\n",
    "                      },\n",
    "               metrics = {'wine_type' : 'accuracy',\n",
    "                          'wine_quality': tf.keras.metrics.RootMeanSquaredError() \n",
    "                        }\n",
    "              )\n"
   ]
  },
  {
   "cell_type": "code",
   "execution_count": 47,
   "metadata": {
    "deletable": false,
    "editable": false,
    "nbgrader": {
     "cell_type": "code",
     "checksum": "88e02238ea5e456ff65e835cc8158054",
     "grade": true,
     "grade_id": "cell-2eeeba02391c4632",
     "locked": true,
     "points": 1,
     "schema_version": 3,
     "solution": false,
     "task": false
    }
   },
   "outputs": [
    {
     "name": "stdout",
     "output_type": "stream",
     "text": [
      "\u001b[92m All public tests passed\n"
     ]
    }
   ],
   "source": [
    "utils.test_model_compile(model)"
   ]
  },
  {
   "cell_type": "markdown",
   "metadata": {
    "colab_type": "text",
    "id": "90MpAMpWuKm-"
   },
   "source": [
    "## Training the Model\n",
    "\n",
    "Fit the model to the training inputs and outputs. \n",
    "- Check the documentation for [model.fit](https://www.tensorflow.org/api_docs/python/tf/keras/Model#fit).\n",
    "- Remember to use the normalized training set as inputs. \n",
    "- For the validation data, please use the normalized validation set."
   ]
  },
  {
   "cell_type": "code",
   "execution_count": 48,
   "metadata": {
    "colab": {},
    "colab_type": "code",
    "deletable": false,
    "id": "_eiZkle4XwiY",
    "nbgrader": {
     "cell_type": "code",
     "checksum": "2ca7664be03bfd6fd3651ae44d17b793",
     "grade": false,
     "grade_id": "cell-0bb56262896f6680",
     "locked": false,
     "schema_version": 3,
     "solution": true,
     "task": false
    }
   },
   "outputs": [
    {
     "name": "stdout",
     "output_type": "stream",
     "text": [
      "Train on 3155 samples, validate on 789 samples\n",
      "Epoch 1/180\n",
      "3155/3155 [==============================] - 1s 358us/sample - loss: 22.9922 - wine_quality_loss: 22.2068 - wine_type_loss: 0.7507 - wine_quality_root_mean_squared_error: 4.7161 - wine_type_accuracy: 0.2751 - val_loss: 15.5710 - val_wine_quality_loss: 14.8668 - val_wine_type_loss: 0.7435 - val_wine_quality_root_mean_squared_error: 3.8507 - val_wine_type_accuracy: 0.2877\n",
      "Epoch 2/180\n",
      "3155/3155 [==============================] - 0s 98us/sample - loss: 10.2297 - wine_quality_loss: 9.4970 - wine_type_loss: 0.7253 - wine_quality_root_mean_squared_error: 3.0829 - wine_type_accuracy: 0.3154 - val_loss: 5.9695 - val_wine_quality_loss: 5.3794 - val_wine_type_loss: 0.6825 - val_wine_quality_root_mean_squared_error: 2.2994 - val_wine_type_accuracy: 0.4284\n",
      "Epoch 3/180\n",
      "3155/3155 [==============================] - 0s 75us/sample - loss: 4.2489 - wine_quality_loss: 3.6279 - wine_type_loss: 0.6134 - wine_quality_root_mean_squared_error: 1.9066 - wine_type_accuracy: 0.7119 - val_loss: 3.0216 - val_wine_quality_loss: 2.5646 - val_wine_type_loss: 0.5283 - val_wine_quality_root_mean_squared_error: 1.5790 - val_wine_type_accuracy: 0.9303\n",
      "Epoch 4/180\n",
      "3155/3155 [==============================] - 0s 93us/sample - loss: 2.7736 - wine_quality_loss: 2.3181 - wine_type_loss: 0.4504 - wine_quality_root_mean_squared_error: 1.5241 - wine_type_accuracy: 0.9404 - val_loss: 2.4023 - val_wine_quality_loss: 2.0649 - val_wine_type_loss: 0.3814 - val_wine_quality_root_mean_squared_error: 1.4216 - val_wine_type_accuracy: 0.9379\n",
      "Epoch 5/180\n",
      "3155/3155 [==============================] - 0s 94us/sample - loss: 2.2651 - wine_quality_loss: 1.9397 - wine_type_loss: 0.3253 - wine_quality_root_mean_squared_error: 1.3927 - wine_type_accuracy: 0.9512 - val_loss: 2.0384 - val_wine_quality_loss: 1.7774 - val_wine_type_loss: 0.2857 - val_wine_quality_root_mean_squared_error: 1.3238 - val_wine_type_accuracy: 0.9632\n",
      "Epoch 6/180\n",
      "3155/3155 [==============================] - 0s 92us/sample - loss: 1.9397 - wine_quality_loss: 1.6925 - wine_type_loss: 0.2449 - wine_quality_root_mean_squared_error: 1.3018 - wine_type_accuracy: 0.9677 - val_loss: 1.7907 - val_wine_quality_loss: 1.5871 - val_wine_type_loss: 0.2182 - val_wine_quality_root_mean_squared_error: 1.2538 - val_wine_type_accuracy: 0.9747\n",
      "Epoch 7/180\n",
      "3155/3155 [==============================] - 0s 92us/sample - loss: 1.7187 - wine_quality_loss: 1.5333 - wine_type_loss: 0.1881 - wine_quality_root_mean_squared_error: 1.2371 - wine_type_accuracy: 0.9797 - val_loss: 1.6030 - val_wine_quality_loss: 1.4418 - val_wine_type_loss: 0.1691 - val_wine_quality_root_mean_squared_error: 1.1973 - val_wine_type_accuracy: 0.9823\n",
      "Epoch 8/180\n",
      "3155/3155 [==============================] - 0s 93us/sample - loss: 1.5586 - wine_quality_loss: 1.4104 - wine_type_loss: 0.1489 - wine_quality_root_mean_squared_error: 1.1873 - wine_type_accuracy: 0.9823 - val_loss: 1.4547 - val_wine_quality_loss: 1.3238 - val_wine_type_loss: 0.1350 - val_wine_quality_root_mean_squared_error: 1.1486 - val_wine_type_accuracy: 0.9848\n",
      "Epoch 9/180\n",
      "3155/3155 [==============================] - 0s 91us/sample - loss: 1.4243 - wine_quality_loss: 1.3029 - wine_type_loss: 0.1203 - wine_quality_root_mean_squared_error: 1.1419 - wine_type_accuracy: 0.9845 - val_loss: 1.3395 - val_wine_quality_loss: 1.2313 - val_wine_type_loss: 0.1103 - val_wine_quality_root_mean_squared_error: 1.1085 - val_wine_type_accuracy: 0.9848\n",
      "Epoch 10/180\n",
      "3155/3155 [==============================] - 0s 77us/sample - loss: 1.3117 - wine_quality_loss: 1.2121 - wine_type_loss: 0.0995 - wine_quality_root_mean_squared_error: 1.1009 - wine_type_accuracy: 0.9854 - val_loss: 1.2476 - val_wine_quality_loss: 1.1552 - val_wine_type_loss: 0.0929 - val_wine_quality_root_mean_squared_error: 1.0744 - val_wine_type_accuracy: 0.9848\n",
      "Epoch 11/180\n",
      "3155/3155 [==============================] - 0s 93us/sample - loss: 1.2205 - wine_quality_loss: 1.1349 - wine_type_loss: 0.0854 - wine_quality_root_mean_squared_error: 1.0653 - wine_type_accuracy: 0.9864 - val_loss: 1.1574 - val_wine_quality_loss: 1.0768 - val_wine_type_loss: 0.0805 - val_wine_quality_root_mean_squared_error: 1.0376 - val_wine_type_accuracy: 0.9861\n",
      "Epoch 12/180\n",
      "3155/3155 [==============================] - 0s 93us/sample - loss: 1.1350 - wine_quality_loss: 1.1039 - wine_type_loss: 0.0750 - wine_quality_root_mean_squared_error: 1.0295 - wine_type_accuracy: 0.9870 - val_loss: 1.0857 - val_wine_quality_loss: 1.0136 - val_wine_type_loss: 0.0715 - val_wine_quality_root_mean_squared_error: 1.0069 - val_wine_type_accuracy: 0.9848\n",
      "Epoch 13/180\n",
      "3155/3155 [==============================] - 0s 92us/sample - loss: 1.0629 - wine_quality_loss: 0.9953 - wine_type_loss: 0.0675 - wine_quality_root_mean_squared_error: 0.9977 - wine_type_accuracy: 0.9870 - val_loss: 1.0067 - val_wine_quality_loss: 0.9411 - val_wine_type_loss: 0.0646 - val_wine_quality_root_mean_squared_error: 0.9704 - val_wine_type_accuracy: 0.9861\n",
      "Epoch 14/180\n",
      "3155/3155 [==============================] - 0s 91us/sample - loss: 1.0001 - wine_quality_loss: 0.9386 - wine_type_loss: 0.0615 - wine_quality_root_mean_squared_error: 0.9687 - wine_type_accuracy: 0.9880 - val_loss: 0.9539 - val_wine_quality_loss: 0.8933 - val_wine_type_loss: 0.0591 - val_wine_quality_root_mean_squared_error: 0.9457 - val_wine_type_accuracy: 0.9861\n",
      "Epoch 15/180\n",
      "3155/3155 [==============================] - 0s 90us/sample - loss: 0.9395 - wine_quality_loss: 0.8817 - wine_type_loss: 0.0571 - wine_quality_root_mean_squared_error: 0.9393 - wine_type_accuracy: 0.9883 - val_loss: 0.9005 - val_wine_quality_loss: 0.8438 - val_wine_type_loss: 0.0552 - val_wine_quality_root_mean_squared_error: 0.9192 - val_wine_type_accuracy: 0.9861\n",
      "Epoch 16/180\n",
      "3155/3155 [==============================] - 0s 76us/sample - loss: 0.8855 - wine_quality_loss: 0.8317 - wine_type_loss: 0.0536 - wine_quality_root_mean_squared_error: 0.9120 - wine_type_accuracy: 0.9889 - val_loss: 0.8551 - val_wine_quality_loss: 0.8010 - val_wine_type_loss: 0.0519 - val_wine_quality_root_mean_squared_error: 0.8960 - val_wine_type_accuracy: 0.9873\n",
      "Epoch 17/180\n",
      "3155/3155 [==============================] - 0s 90us/sample - loss: 0.8336 - wine_quality_loss: 0.7829 - wine_type_loss: 0.0505 - wine_quality_root_mean_squared_error: 0.8848 - wine_type_accuracy: 0.9889 - val_loss: 0.7962 - val_wine_quality_loss: 0.7453 - val_wine_type_loss: 0.0493 - val_wine_quality_root_mean_squared_error: 0.8640 - val_wine_type_accuracy: 0.9886\n",
      "Epoch 18/180\n",
      "3155/3155 [==============================] - 0s 90us/sample - loss: 0.7895 - wine_quality_loss: 0.7402 - wine_type_loss: 0.0482 - wine_quality_root_mean_squared_error: 0.8609 - wine_type_accuracy: 0.9889 - val_loss: 0.7474 - val_wine_quality_loss: 0.6985 - val_wine_type_loss: 0.0469 - val_wine_quality_root_mean_squared_error: 0.8367 - val_wine_type_accuracy: 0.9886\n",
      "Epoch 19/180\n",
      "3155/3155 [==============================] - 0s 74us/sample - loss: 0.7493 - wine_quality_loss: 0.7020 - wine_type_loss: 0.0463 - wine_quality_root_mean_squared_error: 0.8384 - wine_type_accuracy: 0.9892 - val_loss: 0.7208 - val_wine_quality_loss: 0.6735 - val_wine_type_loss: 0.0452 - val_wine_quality_root_mean_squared_error: 0.8217 - val_wine_type_accuracy: 0.9886\n",
      "Epoch 20/180\n",
      "3155/3155 [==============================] - 0s 91us/sample - loss: 0.7110 - wine_quality_loss: 0.6672 - wine_type_loss: 0.0445 - wine_quality_root_mean_squared_error: 0.8163 - wine_type_accuracy: 0.9899 - val_loss: 0.6697 - val_wine_quality_loss: 0.6243 - val_wine_type_loss: 0.0437 - val_wine_quality_root_mean_squared_error: 0.7909 - val_wine_type_accuracy: 0.9899\n",
      "Epoch 21/180\n",
      "3155/3155 [==============================] - 0s 92us/sample - loss: 0.6756 - wine_quality_loss: 0.6324 - wine_type_loss: 0.0432 - wine_quality_root_mean_squared_error: 0.7952 - wine_type_accuracy: 0.9905 - val_loss: 0.6401 - val_wine_quality_loss: 0.5957 - val_wine_type_loss: 0.0424 - val_wine_quality_root_mean_squared_error: 0.7729 - val_wine_type_accuracy: 0.9899\n",
      "Epoch 22/180\n",
      "3155/3155 [==============================] - 0s 90us/sample - loss: 0.6428 - wine_quality_loss: 0.6007 - wine_type_loss: 0.0436 - wine_quality_root_mean_squared_error: 0.7751 - wine_type_accuracy: 0.9902 - val_loss: 0.6086 - val_wine_quality_loss: 0.5656 - val_wine_type_loss: 0.0412 - val_wine_quality_root_mean_squared_error: 0.7530 - val_wine_type_accuracy: 0.9899\n",
      "Epoch 23/180\n",
      "3155/3155 [==============================] - 0s 75us/sample - loss: 0.6135 - wine_quality_loss: 0.5725 - wine_type_loss: 0.0408 - wine_quality_root_mean_squared_error: 0.7567 - wine_type_accuracy: 0.9908 - val_loss: 0.5852 - val_wine_quality_loss: 0.5430 - val_wine_type_loss: 0.0404 - val_wine_quality_root_mean_squared_error: 0.7378 - val_wine_type_accuracy: 0.9899\n",
      "Epoch 24/180\n",
      "3155/3155 [==============================] - 0s 91us/sample - loss: 0.5858 - wine_quality_loss: 0.5453 - wine_type_loss: 0.0404 - wine_quality_root_mean_squared_error: 0.7388 - wine_type_accuracy: 0.9911 - val_loss: 0.5538 - val_wine_quality_loss: 0.5128 - val_wine_type_loss: 0.0393 - val_wine_quality_root_mean_squared_error: 0.7170 - val_wine_type_accuracy: 0.9899\n",
      "Epoch 25/180\n",
      "3155/3155 [==============================] - 0s 90us/sample - loss: 0.5624 - wine_quality_loss: 0.5244 - wine_type_loss: 0.0389 - wine_quality_root_mean_squared_error: 0.7235 - wine_type_accuracy: 0.9908 - val_loss: 0.5325 - val_wine_quality_loss: 0.4922 - val_wine_type_loss: 0.0387 - val_wine_quality_root_mean_squared_error: 0.7025 - val_wine_type_accuracy: 0.9899\n",
      "Epoch 26/180\n",
      "3155/3155 [==============================] - 0s 91us/sample - loss: 0.5381 - wine_quality_loss: 0.5001 - wine_type_loss: 0.0382 - wine_quality_root_mean_squared_error: 0.7070 - wine_type_accuracy: 0.9914 - val_loss: 0.5131 - val_wine_quality_loss: 0.4736 - val_wine_type_loss: 0.0380 - val_wine_quality_root_mean_squared_error: 0.6890 - val_wine_type_accuracy: 0.9899\n",
      "Epoch 27/180\n",
      "3155/3155 [==============================] - 0s 77us/sample - loss: 0.5169 - wine_quality_loss: 0.4790 - wine_type_loss: 0.0375 - wine_quality_root_mean_squared_error: 0.6923 - wine_type_accuracy: 0.9921 - val_loss: 0.4915 - val_wine_quality_loss: 0.4528 - val_wine_type_loss: 0.0372 - val_wine_quality_root_mean_squared_error: 0.6737 - val_wine_type_accuracy: 0.9899\n",
      "Epoch 28/180\n",
      "3155/3155 [==============================] - 0s 91us/sample - loss: 0.4986 - wine_quality_loss: 0.4617 - wine_type_loss: 0.0368 - wine_quality_root_mean_squared_error: 0.6795 - wine_type_accuracy: 0.9918 - val_loss: 0.4800 - val_wine_quality_loss: 0.4412 - val_wine_type_loss: 0.0370 - val_wine_quality_root_mean_squared_error: 0.6653 - val_wine_type_accuracy: 0.9899\n",
      "Epoch 29/180\n",
      "3155/3155 [==============================] - 0s 92us/sample - loss: 0.4833 - wine_quality_loss: 0.4462 - wine_type_loss: 0.0363 - wine_quality_root_mean_squared_error: 0.6685 - wine_type_accuracy: 0.9924 - val_loss: 0.4653 - val_wine_quality_loss: 0.4275 - val_wine_type_loss: 0.0363 - val_wine_quality_root_mean_squared_error: 0.6547 - val_wine_type_accuracy: 0.9899\n",
      "Epoch 30/180\n",
      "3155/3155 [==============================] - 0s 93us/sample - loss: 0.4680 - wine_quality_loss: 0.4326 - wine_type_loss: 0.0357 - wine_quality_root_mean_squared_error: 0.6574 - wine_type_accuracy: 0.9927 - val_loss: 0.4482 - val_wine_quality_loss: 0.4112 - val_wine_type_loss: 0.0357 - val_wine_quality_root_mean_squared_error: 0.6419 - val_wine_type_accuracy: 0.9911\n",
      "Epoch 31/180\n",
      "3155/3155 [==============================] - 0s 89us/sample - loss: 0.4526 - wine_quality_loss: 0.4174 - wine_type_loss: 0.0354 - wine_quality_root_mean_squared_error: 0.6460 - wine_type_accuracy: 0.9927 - val_loss: 0.4361 - val_wine_quality_loss: 0.3996 - val_wine_type_loss: 0.0352 - val_wine_quality_root_mean_squared_error: 0.6328 - val_wine_type_accuracy: 0.9911\n",
      "Epoch 32/180\n",
      "3155/3155 [==============================] - 0s 77us/sample - loss: 0.4412 - wine_quality_loss: 0.4057 - wine_type_loss: 0.0351 - wine_quality_root_mean_squared_error: 0.6375 - wine_type_accuracy: 0.9930 - val_loss: 0.4251 - val_wine_quality_loss: 0.3893 - val_wine_type_loss: 0.0347 - val_wine_quality_root_mean_squared_error: 0.6245 - val_wine_type_accuracy: 0.9911\n",
      "Epoch 33/180\n",
      "3155/3155 [==============================] - 0s 91us/sample - loss: 0.4310 - wine_quality_loss: 0.3958 - wine_type_loss: 0.0342 - wine_quality_root_mean_squared_error: 0.6298 - wine_type_accuracy: 0.9930 - val_loss: 0.4192 - val_wine_quality_loss: 0.3836 - val_wine_type_loss: 0.0345 - val_wine_quality_root_mean_squared_error: 0.6200 - val_wine_type_accuracy: 0.9924\n",
      "Epoch 34/180\n",
      "3155/3155 [==============================] - 0s 92us/sample - loss: 0.4208 - wine_quality_loss: 0.3871 - wine_type_loss: 0.0341 - wine_quality_root_mean_squared_error: 0.6220 - wine_type_accuracy: 0.9933 - val_loss: 0.4126 - val_wine_quality_loss: 0.3773 - val_wine_type_loss: 0.0341 - val_wine_quality_root_mean_squared_error: 0.6149 - val_wine_type_accuracy: 0.9924\n",
      "Epoch 35/180\n",
      "3155/3155 [==============================] - 0s 89us/sample - loss: 0.4131 - wine_quality_loss: 0.3799 - wine_type_loss: 0.0335 - wine_quality_root_mean_squared_error: 0.6161 - wine_type_accuracy: 0.9930 - val_loss: 0.3959 - val_wine_quality_loss: 0.3611 - val_wine_type_loss: 0.0336 - val_wine_quality_root_mean_squared_error: 0.6017 - val_wine_type_accuracy: 0.9924\n",
      "Epoch 36/180\n",
      "3155/3155 [==============================] - 0s 76us/sample - loss: 0.4050 - wine_quality_loss: 0.3718 - wine_type_loss: 0.0330 - wine_quality_root_mean_squared_error: 0.6098 - wine_type_accuracy: 0.9933 - val_loss: 0.4044 - val_wine_quality_loss: 0.3694 - val_wine_type_loss: 0.0336 - val_wine_quality_root_mean_squared_error: 0.6086 - val_wine_type_accuracy: 0.9924\n",
      "Epoch 37/180\n",
      "3155/3155 [==============================] - 0s 90us/sample - loss: 0.3985 - wine_quality_loss: 0.3654 - wine_type_loss: 0.0328 - wine_quality_root_mean_squared_error: 0.6047 - wine_type_accuracy: 0.9930 - val_loss: 0.3908 - val_wine_quality_loss: 0.3564 - val_wine_type_loss: 0.0331 - val_wine_quality_root_mean_squared_error: 0.5977 - val_wine_type_accuracy: 0.9924\n",
      "Epoch 38/180\n",
      "3155/3155 [==============================] - 0s 90us/sample - loss: 0.3926 - wine_quality_loss: 0.3603 - wine_type_loss: 0.0324 - wine_quality_root_mean_squared_error: 0.6000 - wine_type_accuracy: 0.9940 - val_loss: 0.3863 - val_wine_quality_loss: 0.3520 - val_wine_type_loss: 0.0329 - val_wine_quality_root_mean_squared_error: 0.5941 - val_wine_type_accuracy: 0.9924\n",
      "Epoch 39/180\n",
      "3155/3155 [==============================] - 0s 74us/sample - loss: 0.3878 - wine_quality_loss: 0.3553 - wine_type_loss: 0.0322 - wine_quality_root_mean_squared_error: 0.5962 - wine_type_accuracy: 0.9940 - val_loss: 0.3815 - val_wine_quality_loss: 0.3479 - val_wine_type_loss: 0.0325 - val_wine_quality_root_mean_squared_error: 0.5904 - val_wine_type_accuracy: 0.9924\n",
      "Epoch 40/180\n",
      "3155/3155 [==============================] - 0s 89us/sample - loss: 0.3822 - wine_quality_loss: 0.3509 - wine_type_loss: 0.0319 - wine_quality_root_mean_squared_error: 0.5918 - wine_type_accuracy: 0.9940 - val_loss: 0.3752 - val_wine_quality_loss: 0.3414 - val_wine_type_loss: 0.0324 - val_wine_quality_root_mean_squared_error: 0.5852 - val_wine_type_accuracy: 0.9924\n",
      "Epoch 41/180\n",
      "3155/3155 [==============================] - 0s 88us/sample - loss: 0.3779 - wine_quality_loss: 0.3464 - wine_type_loss: 0.0315 - wine_quality_root_mean_squared_error: 0.5884 - wine_type_accuracy: 0.9940 - val_loss: 0.3730 - val_wine_quality_loss: 0.3396 - val_wine_type_loss: 0.0323 - val_wine_quality_root_mean_squared_error: 0.5833 - val_wine_type_accuracy: 0.9924\n",
      "Epoch 42/180\n",
      "3155/3155 [==============================] - 0s 73us/sample - loss: 0.3733 - wine_quality_loss: 0.3423 - wine_type_loss: 0.0313 - wine_quality_root_mean_squared_error: 0.5847 - wine_type_accuracy: 0.9937 - val_loss: 0.3686 - val_wine_quality_loss: 0.3354 - val_wine_type_loss: 0.0318 - val_wine_quality_root_mean_squared_error: 0.5800 - val_wine_type_accuracy: 0.9924\n",
      "Epoch 43/180\n",
      "3155/3155 [==============================] - 0s 87us/sample - loss: 0.3707 - wine_quality_loss: 0.3401 - wine_type_loss: 0.0310 - wine_quality_root_mean_squared_error: 0.5827 - wine_type_accuracy: 0.9943 - val_loss: 0.3649 - val_wine_quality_loss: 0.3322 - val_wine_type_loss: 0.0316 - val_wine_quality_root_mean_squared_error: 0.5769 - val_wine_type_accuracy: 0.9937\n",
      "Epoch 44/180\n",
      "3155/3155 [==============================] - 0s 73us/sample - loss: 0.3663 - wine_quality_loss: 0.3356 - wine_type_loss: 0.0311 - wine_quality_root_mean_squared_error: 0.5792 - wine_type_accuracy: 0.9943 - val_loss: 0.3720 - val_wine_quality_loss: 0.3390 - val_wine_type_loss: 0.0316 - val_wine_quality_root_mean_squared_error: 0.5831 - val_wine_type_accuracy: 0.9937\n",
      "Epoch 45/180\n",
      "3155/3155 [==============================] - 0s 90us/sample - loss: 0.3640 - wine_quality_loss: 0.3340 - wine_type_loss: 0.0306 - wine_quality_root_mean_squared_error: 0.5774 - wine_type_accuracy: 0.9943 - val_loss: 0.3603 - val_wine_quality_loss: 0.3278 - val_wine_type_loss: 0.0315 - val_wine_quality_root_mean_squared_error: 0.5730 - val_wine_type_accuracy: 0.9937\n",
      "Epoch 46/180\n",
      "3155/3155 [==============================] - 0s 89us/sample - loss: 0.3606 - wine_quality_loss: 0.3306 - wine_type_loss: 0.0302 - wine_quality_root_mean_squared_error: 0.5747 - wine_type_accuracy: 0.9943 - val_loss: 0.3564 - val_wine_quality_loss: 0.3240 - val_wine_type_loss: 0.0313 - val_wine_quality_root_mean_squared_error: 0.5698 - val_wine_type_accuracy: 0.9937\n",
      "Epoch 47/180\n",
      "3155/3155 [==============================] - 0s 74us/sample - loss: 0.3576 - wine_quality_loss: 0.3276 - wine_type_loss: 0.0300 - wine_quality_root_mean_squared_error: 0.5723 - wine_type_accuracy: 0.9943 - val_loss: 0.3565 - val_wine_quality_loss: 0.3247 - val_wine_type_loss: 0.0309 - val_wine_quality_root_mean_squared_error: 0.5703 - val_wine_type_accuracy: 0.9949\n",
      "Epoch 48/180\n",
      "3155/3155 [==============================] - 0s 88us/sample - loss: 0.3552 - wine_quality_loss: 0.3250 - wine_type_loss: 0.0297 - wine_quality_root_mean_squared_error: 0.5704 - wine_type_accuracy: 0.9943 - val_loss: 0.3539 - val_wine_quality_loss: 0.3220 - val_wine_type_loss: 0.0309 - val_wine_quality_root_mean_squared_error: 0.5680 - val_wine_type_accuracy: 0.9937\n",
      "Epoch 49/180\n",
      "3155/3155 [==============================] - 0s 88us/sample - loss: 0.3543 - wine_quality_loss: 0.3249 - wine_type_loss: 0.0297 - wine_quality_root_mean_squared_error: 0.5698 - wine_type_accuracy: 0.9943 - val_loss: 0.3526 - val_wine_quality_loss: 0.3209 - val_wine_type_loss: 0.0307 - val_wine_quality_root_mean_squared_error: 0.5670 - val_wine_type_accuracy: 0.9937\n",
      "Epoch 50/180\n",
      "3155/3155 [==============================] - 0s 75us/sample - loss: 0.3504 - wine_quality_loss: 0.3210 - wine_type_loss: 0.0293 - wine_quality_root_mean_squared_error: 0.5666 - wine_type_accuracy: 0.9946 - val_loss: 0.3555 - val_wine_quality_loss: 0.3235 - val_wine_type_loss: 0.0307 - val_wine_quality_root_mean_squared_error: 0.5696 - val_wine_type_accuracy: 0.9937\n",
      "Epoch 51/180\n",
      "3155/3155 [==============================] - 0s 89us/sample - loss: 0.3485 - wine_quality_loss: 0.3194 - wine_type_loss: 0.0291 - wine_quality_root_mean_squared_error: 0.5651 - wine_type_accuracy: 0.9946 - val_loss: 0.3557 - val_wine_quality_loss: 0.3241 - val_wine_type_loss: 0.0305 - val_wine_quality_root_mean_squared_error: 0.5699 - val_wine_type_accuracy: 0.9937\n",
      "Epoch 52/180\n",
      "3155/3155 [==============================] - 0s 89us/sample - loss: 0.3474 - wine_quality_loss: 0.3185 - wine_type_loss: 0.0293 - wine_quality_root_mean_squared_error: 0.5643 - wine_type_accuracy: 0.9949 - val_loss: 0.3507 - val_wine_quality_loss: 0.3195 - val_wine_type_loss: 0.0304 - val_wine_quality_root_mean_squared_error: 0.5656 - val_wine_type_accuracy: 0.9937\n",
      "Epoch 53/180\n",
      "3155/3155 [==============================] - 0s 74us/sample - loss: 0.3450 - wine_quality_loss: 0.3159 - wine_type_loss: 0.0286 - wine_quality_root_mean_squared_error: 0.5624 - wine_type_accuracy: 0.9946 - val_loss: 0.3480 - val_wine_quality_loss: 0.3168 - val_wine_type_loss: 0.0300 - val_wine_quality_root_mean_squared_error: 0.5635 - val_wine_type_accuracy: 0.9949\n",
      "Epoch 54/180\n",
      "3155/3155 [==============================] - 0s 87us/sample - loss: 0.3444 - wine_quality_loss: 0.3158 - wine_type_loss: 0.0284 - wine_quality_root_mean_squared_error: 0.5621 - wine_type_accuracy: 0.9949 - val_loss: 0.3498 - val_wine_quality_loss: 0.3188 - val_wine_type_loss: 0.0301 - val_wine_quality_root_mean_squared_error: 0.5651 - val_wine_type_accuracy: 0.9949\n",
      "Epoch 55/180\n",
      "3155/3155 [==============================] - 0s 75us/sample - loss: 0.3418 - wine_quality_loss: 0.3129 - wine_type_loss: 0.0283 - wine_quality_root_mean_squared_error: 0.5599 - wine_type_accuracy: 0.9946 - val_loss: 0.3501 - val_wine_quality_loss: 0.3193 - val_wine_type_loss: 0.0300 - val_wine_quality_root_mean_squared_error: 0.5654 - val_wine_type_accuracy: 0.9949\n",
      "Epoch 56/180\n",
      "3155/3155 [==============================] - 0s 75us/sample - loss: 0.3408 - wine_quality_loss: 0.3131 - wine_type_loss: 0.0281 - wine_quality_root_mean_squared_error: 0.5592 - wine_type_accuracy: 0.9946 - val_loss: 0.3466 - val_wine_quality_loss: 0.3159 - val_wine_type_loss: 0.0299 - val_wine_quality_root_mean_squared_error: 0.5624 - val_wine_type_accuracy: 0.9949\n",
      "Epoch 57/180\n",
      "3155/3155 [==============================] - 0s 89us/sample - loss: 0.3386 - wine_quality_loss: 0.3105 - wine_type_loss: 0.0278 - wine_quality_root_mean_squared_error: 0.5574 - wine_type_accuracy: 0.9949 - val_loss: 0.3436 - val_wine_quality_loss: 0.3131 - val_wine_type_loss: 0.0297 - val_wine_quality_root_mean_squared_error: 0.5599 - val_wine_type_accuracy: 0.9949\n",
      "Epoch 58/180\n",
      "3155/3155 [==============================] - 0s 73us/sample - loss: 0.3379 - wine_quality_loss: 0.3096 - wine_type_loss: 0.0292 - wine_quality_root_mean_squared_error: 0.5570 - wine_type_accuracy: 0.9946 - val_loss: 0.3504 - val_wine_quality_loss: 0.3199 - val_wine_type_loss: 0.0297 - val_wine_quality_root_mean_squared_error: 0.5660 - val_wine_type_accuracy: 0.9937\n",
      "Epoch 59/180\n",
      "3155/3155 [==============================] - 0s 90us/sample - loss: 0.3377 - wine_quality_loss: 0.3101 - wine_type_loss: 0.0274 - wine_quality_root_mean_squared_error: 0.5569 - wine_type_accuracy: 0.9946 - val_loss: 0.3447 - val_wine_quality_loss: 0.3141 - val_wine_type_loss: 0.0296 - val_wine_quality_root_mean_squared_error: 0.5610 - val_wine_type_accuracy: 0.9949\n",
      "Epoch 60/180\n",
      "3155/3155 [==============================] - 0s 89us/sample - loss: 0.3360 - wine_quality_loss: 0.3084 - wine_type_loss: 0.0273 - wine_quality_root_mean_squared_error: 0.5556 - wine_type_accuracy: 0.9949 - val_loss: 0.3468 - val_wine_quality_loss: 0.3165 - val_wine_type_loss: 0.0296 - val_wine_quality_root_mean_squared_error: 0.5629 - val_wine_type_accuracy: 0.9949\n",
      "Epoch 61/180\n",
      "3155/3155 [==============================] - 0s 74us/sample - loss: 0.3325 - wine_quality_loss: 0.3056 - wine_type_loss: 0.0270 - wine_quality_root_mean_squared_error: 0.5526 - wine_type_accuracy: 0.9946 - val_loss: 0.3465 - val_wine_quality_loss: 0.3161 - val_wine_type_loss: 0.0294 - val_wine_quality_root_mean_squared_error: 0.5628 - val_wine_type_accuracy: 0.9949\n",
      "Epoch 62/180\n",
      "3155/3155 [==============================] - 0s 90us/sample - loss: 0.3336 - wine_quality_loss: 0.3065 - wine_type_loss: 0.0268 - wine_quality_root_mean_squared_error: 0.5537 - wine_type_accuracy: 0.9949 - val_loss: 0.3461 - val_wine_quality_loss: 0.3158 - val_wine_type_loss: 0.0295 - val_wine_quality_root_mean_squared_error: 0.5624 - val_wine_type_accuracy: 0.9949\n",
      "Epoch 63/180\n",
      "3155/3155 [==============================] - 0s 87us/sample - loss: 0.3305 - wine_quality_loss: 0.3034 - wine_type_loss: 0.0267 - wine_quality_root_mean_squared_error: 0.5511 - wine_type_accuracy: 0.9946 - val_loss: 0.3550 - val_wine_quality_loss: 0.3247 - val_wine_type_loss: 0.0293 - val_wine_quality_root_mean_squared_error: 0.5704 - val_wine_type_accuracy: 0.9949\n",
      "Epoch 64/180\n",
      "3155/3155 [==============================] - 0s 75us/sample - loss: 0.3312 - wine_quality_loss: 0.3045 - wine_type_loss: 0.0277 - wine_quality_root_mean_squared_error: 0.5518 - wine_type_accuracy: 0.9946 - val_loss: 0.3438 - val_wine_quality_loss: 0.3135 - val_wine_type_loss: 0.0292 - val_wine_quality_root_mean_squared_error: 0.5606 - val_wine_type_accuracy: 0.9949\n",
      "Epoch 65/180\n",
      "3155/3155 [==============================] - 0s 89us/sample - loss: 0.3284 - wine_quality_loss: 0.3017 - wine_type_loss: 0.0263 - wine_quality_root_mean_squared_error: 0.5495 - wine_type_accuracy: 0.9946 - val_loss: 0.3430 - val_wine_quality_loss: 0.3130 - val_wine_type_loss: 0.0291 - val_wine_quality_root_mean_squared_error: 0.5599 - val_wine_type_accuracy: 0.9949\n",
      "Epoch 66/180\n",
      "3155/3155 [==============================] - 0s 89us/sample - loss: 0.3285 - wine_quality_loss: 0.3029 - wine_type_loss: 0.0262 - wine_quality_root_mean_squared_error: 0.5498 - wine_type_accuracy: 0.9946 - val_loss: 0.3409 - val_wine_quality_loss: 0.3112 - val_wine_type_loss: 0.0289 - val_wine_quality_root_mean_squared_error: 0.5583 - val_wine_type_accuracy: 0.9949\n",
      "Epoch 67/180\n",
      "3155/3155 [==============================] - 0s 75us/sample - loss: 0.3278 - wine_quality_loss: 0.3015 - wine_type_loss: 0.0260 - wine_quality_root_mean_squared_error: 0.5493 - wine_type_accuracy: 0.9946 - val_loss: 0.3438 - val_wine_quality_loss: 0.3143 - val_wine_type_loss: 0.0288 - val_wine_quality_root_mean_squared_error: 0.5610 - val_wine_type_accuracy: 0.9949\n",
      "Epoch 68/180\n",
      "3155/3155 [==============================] - 0s 90us/sample - loss: 0.3262 - wine_quality_loss: 0.3008 - wine_type_loss: 0.0258 - wine_quality_root_mean_squared_error: 0.5480 - wine_type_accuracy: 0.9952 - val_loss: 0.3449 - val_wine_quality_loss: 0.3153 - val_wine_type_loss: 0.0288 - val_wine_quality_root_mean_squared_error: 0.5619 - val_wine_type_accuracy: 0.9949\n",
      "Epoch 69/180\n",
      "3155/3155 [==============================] - 0s 91us/sample - loss: 0.3257 - wine_quality_loss: 0.2996 - wine_type_loss: 0.0261 - wine_quality_root_mean_squared_error: 0.5476 - wine_type_accuracy: 0.9952 - val_loss: 0.3457 - val_wine_quality_loss: 0.3160 - val_wine_type_loss: 0.0287 - val_wine_quality_root_mean_squared_error: 0.5628 - val_wine_type_accuracy: 0.9949\n",
      "Epoch 70/180\n",
      "3155/3155 [==============================] - 0s 75us/sample - loss: 0.3244 - wine_quality_loss: 0.2994 - wine_type_loss: 0.0254 - wine_quality_root_mean_squared_error: 0.5467 - wine_type_accuracy: 0.9952 - val_loss: 0.3410 - val_wine_quality_loss: 0.3116 - val_wine_type_loss: 0.0286 - val_wine_quality_root_mean_squared_error: 0.5586 - val_wine_type_accuracy: 0.9949\n",
      "Epoch 71/180\n",
      "3155/3155 [==============================] - 0s 90us/sample - loss: 0.3227 - wine_quality_loss: 0.2969 - wine_type_loss: 0.0253 - wine_quality_root_mean_squared_error: 0.5452 - wine_type_accuracy: 0.9949 - val_loss: 0.3417 - val_wine_quality_loss: 0.3123 - val_wine_type_loss: 0.0285 - val_wine_quality_root_mean_squared_error: 0.5593 - val_wine_type_accuracy: 0.9949\n",
      "Epoch 72/180\n",
      "3155/3155 [==============================] - 0s 89us/sample - loss: 0.3223 - wine_quality_loss: 0.2970 - wine_type_loss: 0.0251 - wine_quality_root_mean_squared_error: 0.5451 - wine_type_accuracy: 0.9952 - val_loss: 0.3371 - val_wine_quality_loss: 0.3078 - val_wine_type_loss: 0.0286 - val_wine_quality_root_mean_squared_error: 0.5551 - val_wine_type_accuracy: 0.9949\n",
      "Epoch 73/180\n",
      "3155/3155 [==============================] - 0s 73us/sample - loss: 0.3202 - wine_quality_loss: 0.2952 - wine_type_loss: 0.0250 - wine_quality_root_mean_squared_error: 0.5432 - wine_type_accuracy: 0.9952 - val_loss: 0.3439 - val_wine_quality_loss: 0.3147 - val_wine_type_loss: 0.0285 - val_wine_quality_root_mean_squared_error: 0.5612 - val_wine_type_accuracy: 0.9949\n",
      "Epoch 74/180\n",
      "3155/3155 [==============================] - 0s 90us/sample - loss: 0.3209 - wine_quality_loss: 0.2956 - wine_type_loss: 0.0249 - wine_quality_root_mean_squared_error: 0.5441 - wine_type_accuracy: 0.9952 - val_loss: 0.3599 - val_wine_quality_loss: 0.3304 - val_wine_type_loss: 0.0284 - val_wine_quality_root_mean_squared_error: 0.5754 - val_wine_type_accuracy: 0.9949\n",
      "Epoch 75/180\n",
      "3155/3155 [==============================] - 0s 89us/sample - loss: 0.3209 - wine_quality_loss: 0.2962 - wine_type_loss: 0.0247 - wine_quality_root_mean_squared_error: 0.5442 - wine_type_accuracy: 0.9952 - val_loss: 0.3401 - val_wine_quality_loss: 0.3109 - val_wine_type_loss: 0.0283 - val_wine_quality_root_mean_squared_error: 0.5581 - val_wine_type_accuracy: 0.9949\n",
      "Epoch 76/180\n",
      "3155/3155 [==============================] - 0s 73us/sample - loss: 0.3194 - wine_quality_loss: 0.2950 - wine_type_loss: 0.0245 - wine_quality_root_mean_squared_error: 0.5430 - wine_type_accuracy: 0.9952 - val_loss: 0.3366 - val_wine_quality_loss: 0.3077 - val_wine_type_loss: 0.0282 - val_wine_quality_root_mean_squared_error: 0.5550 - val_wine_type_accuracy: 0.9949\n",
      "Epoch 77/180\n",
      "3155/3155 [==============================] - 0s 90us/sample - loss: 0.3189 - wine_quality_loss: 0.2943 - wine_type_loss: 0.0254 - wine_quality_root_mean_squared_error: 0.5427 - wine_type_accuracy: 0.9952 - val_loss: 0.3416 - val_wine_quality_loss: 0.3124 - val_wine_type_loss: 0.0281 - val_wine_quality_root_mean_squared_error: 0.5596 - val_wine_type_accuracy: 0.9949\n",
      "Epoch 78/180\n",
      "3155/3155 [==============================] - 0s 89us/sample - loss: 0.3178 - wine_quality_loss: 0.2931 - wine_type_loss: 0.0241 - wine_quality_root_mean_squared_error: 0.5418 - wine_type_accuracy: 0.9956 - val_loss: 0.3418 - val_wine_quality_loss: 0.3129 - val_wine_type_loss: 0.0280 - val_wine_quality_root_mean_squared_error: 0.5599 - val_wine_type_accuracy: 0.9949\n",
      "Epoch 79/180\n",
      "3155/3155 [==============================] - 0s 74us/sample - loss: 0.3168 - wine_quality_loss: 0.2929 - wine_type_loss: 0.0240 - wine_quality_root_mean_squared_error: 0.5410 - wine_type_accuracy: 0.9956 - val_loss: 0.3349 - val_wine_quality_loss: 0.3063 - val_wine_type_loss: 0.0279 - val_wine_quality_root_mean_squared_error: 0.5538 - val_wine_type_accuracy: 0.9949\n",
      "Epoch 80/180\n",
      "3155/3155 [==============================] - 0s 90us/sample - loss: 0.3156 - wine_quality_loss: 0.2918 - wine_type_loss: 0.0238 - wine_quality_root_mean_squared_error: 0.5401 - wine_type_accuracy: 0.9956 - val_loss: 0.3361 - val_wine_quality_loss: 0.3072 - val_wine_type_loss: 0.0280 - val_wine_quality_root_mean_squared_error: 0.5547 - val_wine_type_accuracy: 0.9949\n",
      "Epoch 81/180\n",
      "3155/3155 [==============================] - 0s 91us/sample - loss: 0.3138 - wine_quality_loss: 0.2899 - wine_type_loss: 0.0238 - wine_quality_root_mean_squared_error: 0.5386 - wine_type_accuracy: 0.9956 - val_loss: 0.3428 - val_wine_quality_loss: 0.3142 - val_wine_type_loss: 0.0279 - val_wine_quality_root_mean_squared_error: 0.5609 - val_wine_type_accuracy: 0.9949\n",
      "Epoch 82/180\n",
      "3155/3155 [==============================] - 0s 89us/sample - loss: 0.3139 - wine_quality_loss: 0.2902 - wine_type_loss: 0.0235 - wine_quality_root_mean_squared_error: 0.5388 - wine_type_accuracy: 0.9959 - val_loss: 0.3397 - val_wine_quality_loss: 0.3109 - val_wine_type_loss: 0.0279 - val_wine_quality_root_mean_squared_error: 0.5581 - val_wine_type_accuracy: 0.9949\n",
      "Epoch 83/180\n",
      "3155/3155 [==============================] - 0s 75us/sample - loss: 0.3138 - wine_quality_loss: 0.2901 - wine_type_loss: 0.0234 - wine_quality_root_mean_squared_error: 0.5388 - wine_type_accuracy: 0.9956 - val_loss: 0.3378 - val_wine_quality_loss: 0.3093 - val_wine_type_loss: 0.0276 - val_wine_quality_root_mean_squared_error: 0.5566 - val_wine_type_accuracy: 0.9949\n",
      "Epoch 84/180\n",
      "3155/3155 [==============================] - 0s 90us/sample - loss: 0.3129 - wine_quality_loss: 0.2903 - wine_type_loss: 0.0233 - wine_quality_root_mean_squared_error: 0.5382 - wine_type_accuracy: 0.9959 - val_loss: 0.3346 - val_wine_quality_loss: 0.3061 - val_wine_type_loss: 0.0276 - val_wine_quality_root_mean_squared_error: 0.5537 - val_wine_type_accuracy: 0.9949\n",
      "Epoch 85/180\n",
      "3155/3155 [==============================] - 0s 73us/sample - loss: 0.3115 - wine_quality_loss: 0.2881 - wine_type_loss: 0.0231 - wine_quality_root_mean_squared_error: 0.5370 - wine_type_accuracy: 0.9959 - val_loss: 0.3486 - val_wine_quality_loss: 0.3201 - val_wine_type_loss: 0.0275 - val_wine_quality_root_mean_squared_error: 0.5663 - val_wine_type_accuracy: 0.9949\n",
      "Epoch 86/180\n",
      "3155/3155 [==============================] - 0s 75us/sample - loss: 0.3122 - wine_quality_loss: 0.2893 - wine_type_loss: 0.0229 - wine_quality_root_mean_squared_error: 0.5378 - wine_type_accuracy: 0.9959 - val_loss: 0.3337 - val_wine_quality_loss: 0.3054 - val_wine_type_loss: 0.0277 - val_wine_quality_root_mean_squared_error: 0.5529 - val_wine_type_accuracy: 0.9937\n",
      "Epoch 87/180\n",
      "3155/3155 [==============================] - 0s 89us/sample - loss: 0.3104 - wine_quality_loss: 0.2876 - wine_type_loss: 0.0228 - wine_quality_root_mean_squared_error: 0.5362 - wine_type_accuracy: 0.9956 - val_loss: 0.3432 - val_wine_quality_loss: 0.3151 - val_wine_type_loss: 0.0276 - val_wine_quality_root_mean_squared_error: 0.5615 - val_wine_type_accuracy: 0.9949\n",
      "Epoch 88/180\n",
      "3155/3155 [==============================] - 0s 74us/sample - loss: 0.3100 - wine_quality_loss: 0.2873 - wine_type_loss: 0.0227 - wine_quality_root_mean_squared_error: 0.5360 - wine_type_accuracy: 0.9959 - val_loss: 0.3369 - val_wine_quality_loss: 0.3088 - val_wine_type_loss: 0.0277 - val_wine_quality_root_mean_squared_error: 0.5557 - val_wine_type_accuracy: 0.9937\n",
      "Epoch 89/180\n",
      "3155/3155 [==============================] - 0s 90us/sample - loss: 0.3092 - wine_quality_loss: 0.2864 - wine_type_loss: 0.0225 - wine_quality_root_mean_squared_error: 0.5354 - wine_type_accuracy: 0.9956 - val_loss: 0.3394 - val_wine_quality_loss: 0.3110 - val_wine_type_loss: 0.0275 - val_wine_quality_root_mean_squared_error: 0.5582 - val_wine_type_accuracy: 0.9949\n",
      "Epoch 90/180\n",
      "3155/3155 [==============================] - 0s 87us/sample - loss: 0.3087 - wine_quality_loss: 0.2867 - wine_type_loss: 0.0227 - wine_quality_root_mean_squared_error: 0.5350 - wine_type_accuracy: 0.9959 - val_loss: 0.3376 - val_wine_quality_loss: 0.3096 - val_wine_type_loss: 0.0273 - val_wine_quality_root_mean_squared_error: 0.5567 - val_wine_type_accuracy: 0.9949\n",
      "Epoch 91/180\n",
      "3155/3155 [==============================] - 0s 73us/sample - loss: 0.3073 - wine_quality_loss: 0.2849 - wine_type_loss: 0.0223 - wine_quality_root_mean_squared_error: 0.5338 - wine_type_accuracy: 0.9959 - val_loss: 0.3316 - val_wine_quality_loss: 0.3035 - val_wine_type_loss: 0.0273 - val_wine_quality_root_mean_squared_error: 0.5513 - val_wine_type_accuracy: 0.9949\n",
      "Epoch 92/180\n",
      "3155/3155 [==============================] - 0s 90us/sample - loss: 0.3076 - wine_quality_loss: 0.2855 - wine_type_loss: 0.0222 - wine_quality_root_mean_squared_error: 0.5342 - wine_type_accuracy: 0.9959 - val_loss: 0.3332 - val_wine_quality_loss: 0.3052 - val_wine_type_loss: 0.0272 - val_wine_quality_root_mean_squared_error: 0.5529 - val_wine_type_accuracy: 0.9949\n",
      "Epoch 93/180\n",
      "3155/3155 [==============================] - 0s 86us/sample - loss: 0.3054 - wine_quality_loss: 0.2835 - wine_type_loss: 0.0219 - wine_quality_root_mean_squared_error: 0.5323 - wine_type_accuracy: 0.9962 - val_loss: 0.3343 - val_wine_quality_loss: 0.3064 - val_wine_type_loss: 0.0272 - val_wine_quality_root_mean_squared_error: 0.5539 - val_wine_type_accuracy: 0.9949\n",
      "Epoch 94/180\n",
      "3155/3155 [==============================] - 0s 74us/sample - loss: 0.3066 - wine_quality_loss: 0.2848 - wine_type_loss: 0.0220 - wine_quality_root_mean_squared_error: 0.5335 - wine_type_accuracy: 0.9962 - val_loss: 0.3398 - val_wine_quality_loss: 0.3124 - val_wine_type_loss: 0.0271 - val_wine_quality_root_mean_squared_error: 0.5589 - val_wine_type_accuracy: 0.9949\n",
      "Epoch 95/180\n",
      "3155/3155 [==============================] - 0s 89us/sample - loss: 0.3056 - wine_quality_loss: 0.2842 - wine_type_loss: 0.0216 - wine_quality_root_mean_squared_error: 0.5329 - wine_type_accuracy: 0.9965 - val_loss: 0.3453 - val_wine_quality_loss: 0.3176 - val_wine_type_loss: 0.0273 - val_wine_quality_root_mean_squared_error: 0.5636 - val_wine_type_accuracy: 0.9937\n",
      "Epoch 96/180\n",
      "3155/3155 [==============================] - 0s 72us/sample - loss: 0.3054 - wine_quality_loss: 0.2836 - wine_type_loss: 0.0216 - wine_quality_root_mean_squared_error: 0.5327 - wine_type_accuracy: 0.9962 - val_loss: 0.3373 - val_wine_quality_loss: 0.3096 - val_wine_type_loss: 0.0269 - val_wine_quality_root_mean_squared_error: 0.5567 - val_wine_type_accuracy: 0.9949\n",
      "Epoch 97/180\n",
      "3155/3155 [==============================] - 0s 89us/sample - loss: 0.3026 - wine_quality_loss: 0.2820 - wine_type_loss: 0.0214 - wine_quality_root_mean_squared_error: 0.5301 - wine_type_accuracy: 0.9962 - val_loss: 0.3412 - val_wine_quality_loss: 0.3133 - val_wine_type_loss: 0.0271 - val_wine_quality_root_mean_squared_error: 0.5601 - val_wine_type_accuracy: 0.9949\n",
      "Epoch 98/180\n",
      "3155/3155 [==============================] - 0s 87us/sample - loss: 0.3033 - wine_quality_loss: 0.2821 - wine_type_loss: 0.0223 - wine_quality_root_mean_squared_error: 0.5309 - wine_type_accuracy: 0.9962 - val_loss: 0.3382 - val_wine_quality_loss: 0.3106 - val_wine_type_loss: 0.0269 - val_wine_quality_root_mean_squared_error: 0.5576 - val_wine_type_accuracy: 0.9949\n",
      "Epoch 99/180\n",
      "3155/3155 [==============================] - 0s 75us/sample - loss: 0.3028 - wine_quality_loss: 0.2814 - wine_type_loss: 0.0213 - wine_quality_root_mean_squared_error: 0.5306 - wine_type_accuracy: 0.9962 - val_loss: 0.3371 - val_wine_quality_loss: 0.3099 - val_wine_type_loss: 0.0269 - val_wine_quality_root_mean_squared_error: 0.5567 - val_wine_type_accuracy: 0.9949\n",
      "Epoch 100/180\n",
      "3155/3155 [==============================] - 0s 89us/sample - loss: 0.3029 - wine_quality_loss: 0.2814 - wine_type_loss: 0.0211 - wine_quality_root_mean_squared_error: 0.5307 - wine_type_accuracy: 0.9962 - val_loss: 0.3368 - val_wine_quality_loss: 0.3093 - val_wine_type_loss: 0.0268 - val_wine_quality_root_mean_squared_error: 0.5565 - val_wine_type_accuracy: 0.9949\n",
      "Epoch 101/180\n",
      "3155/3155 [==============================] - 0s 91us/sample - loss: 0.3010 - wine_quality_loss: 0.2799 - wine_type_loss: 0.0216 - wine_quality_root_mean_squared_error: 0.5291 - wine_type_accuracy: 0.9962 - val_loss: 0.3387 - val_wine_quality_loss: 0.3116 - val_wine_type_loss: 0.0267 - val_wine_quality_root_mean_squared_error: 0.5582 - val_wine_type_accuracy: 0.9949\n",
      "Epoch 102/180\n",
      "3155/3155 [==============================] - 0s 91us/sample - loss: 0.3015 - wine_quality_loss: 0.2813 - wine_type_loss: 0.0208 - wine_quality_root_mean_squared_error: 0.5297 - wine_type_accuracy: 0.9965 - val_loss: 0.3414 - val_wine_quality_loss: 0.3138 - val_wine_type_loss: 0.0267 - val_wine_quality_root_mean_squared_error: 0.5606 - val_wine_type_accuracy: 0.9949\n",
      "Epoch 103/180\n",
      "3155/3155 [==============================] - 0s 77us/sample - loss: 0.3023 - wine_quality_loss: 0.2811 - wine_type_loss: 0.0208 - wine_quality_root_mean_squared_error: 0.5305 - wine_type_accuracy: 0.9962 - val_loss: 0.3352 - val_wine_quality_loss: 0.3077 - val_wine_type_loss: 0.0267 - val_wine_quality_root_mean_squared_error: 0.5551 - val_wine_type_accuracy: 0.9949\n",
      "Epoch 104/180\n",
      "3155/3155 [==============================] - 0s 93us/sample - loss: 0.3008 - wine_quality_loss: 0.2804 - wine_type_loss: 0.0206 - wine_quality_root_mean_squared_error: 0.5293 - wine_type_accuracy: 0.9962 - val_loss: 0.3359 - val_wine_quality_loss: 0.3085 - val_wine_type_loss: 0.0266 - val_wine_quality_root_mean_squared_error: 0.5558 - val_wine_type_accuracy: 0.9949\n",
      "Epoch 105/180\n",
      "3155/3155 [==============================] - 0s 91us/sample - loss: 0.3003 - wine_quality_loss: 0.2791 - wine_type_loss: 0.0204 - wine_quality_root_mean_squared_error: 0.5289 - wine_type_accuracy: 0.9965 - val_loss: 0.3316 - val_wine_quality_loss: 0.3041 - val_wine_type_loss: 0.0268 - val_wine_quality_root_mean_squared_error: 0.5519 - val_wine_type_accuracy: 0.9949\n",
      "Epoch 106/180\n",
      "3155/3155 [==============================] - 0s 90us/sample - loss: 0.2993 - wine_quality_loss: 0.2793 - wine_type_loss: 0.0205 - wine_quality_root_mean_squared_error: 0.5280 - wine_type_accuracy: 0.9965 - val_loss: 0.3352 - val_wine_quality_loss: 0.3077 - val_wine_type_loss: 0.0265 - val_wine_quality_root_mean_squared_error: 0.5553 - val_wine_type_accuracy: 0.9949\n",
      "Epoch 107/180\n",
      "3155/3155 [==============================] - 0s 76us/sample - loss: 0.2990 - wine_quality_loss: 0.2788 - wine_type_loss: 0.0203 - wine_quality_root_mean_squared_error: 0.5279 - wine_type_accuracy: 0.9965 - val_loss: 0.3373 - val_wine_quality_loss: 0.3101 - val_wine_type_loss: 0.0266 - val_wine_quality_root_mean_squared_error: 0.5571 - val_wine_type_accuracy: 0.9949\n",
      "Epoch 108/180\n",
      "3155/3155 [==============================] - 0s 90us/sample - loss: 0.2977 - wine_quality_loss: 0.2776 - wine_type_loss: 0.0202 - wine_quality_root_mean_squared_error: 0.5267 - wine_type_accuracy: 0.9965 - val_loss: 0.3343 - val_wine_quality_loss: 0.3072 - val_wine_type_loss: 0.0265 - val_wine_quality_root_mean_squared_error: 0.5545 - val_wine_type_accuracy: 0.9949\n",
      "Epoch 109/180\n",
      "3155/3155 [==============================] - 0s 90us/sample - loss: 0.2976 - wine_quality_loss: 0.2771 - wine_type_loss: 0.0200 - wine_quality_root_mean_squared_error: 0.5268 - wine_type_accuracy: 0.9965 - val_loss: 0.3423 - val_wine_quality_loss: 0.3155 - val_wine_type_loss: 0.0265 - val_wine_quality_root_mean_squared_error: 0.5617 - val_wine_type_accuracy: 0.9949\n",
      "Epoch 110/180\n",
      "3155/3155 [==============================] - 0s 89us/sample - loss: 0.2972 - wine_quality_loss: 0.2777 - wine_type_loss: 0.0200 - wine_quality_root_mean_squared_error: 0.5264 - wine_type_accuracy: 0.9965 - val_loss: 0.3337 - val_wine_quality_loss: 0.3066 - val_wine_type_loss: 0.0263 - val_wine_quality_root_mean_squared_error: 0.5541 - val_wine_type_accuracy: 0.9949\n",
      "Epoch 111/180\n",
      "3155/3155 [==============================] - 0s 73us/sample - loss: 0.2963 - wine_quality_loss: 0.2769 - wine_type_loss: 0.0198 - wine_quality_root_mean_squared_error: 0.5257 - wine_type_accuracy: 0.9965 - val_loss: 0.3383 - val_wine_quality_loss: 0.3110 - val_wine_type_loss: 0.0263 - val_wine_quality_root_mean_squared_error: 0.5582 - val_wine_type_accuracy: 0.9949\n",
      "Epoch 112/180\n",
      "3155/3155 [==============================] - 0s 87us/sample - loss: 0.2959 - wine_quality_loss: 0.2759 - wine_type_loss: 0.0198 - wine_quality_root_mean_squared_error: 0.5254 - wine_type_accuracy: 0.9965 - val_loss: 0.3359 - val_wine_quality_loss: 0.3090 - val_wine_type_loss: 0.0264 - val_wine_quality_root_mean_squared_error: 0.5560 - val_wine_type_accuracy: 0.9949\n",
      "Epoch 113/180\n",
      "3155/3155 [==============================] - 0s 73us/sample - loss: 0.2958 - wine_quality_loss: 0.2759 - wine_type_loss: 0.0197 - wine_quality_root_mean_squared_error: 0.5254 - wine_type_accuracy: 0.9965 - val_loss: 0.3337 - val_wine_quality_loss: 0.3068 - val_wine_type_loss: 0.0263 - val_wine_quality_root_mean_squared_error: 0.5541 - val_wine_type_accuracy: 0.9949\n",
      "Epoch 114/180\n",
      "3155/3155 [==============================] - 0s 89us/sample - loss: 0.2952 - wine_quality_loss: 0.2759 - wine_type_loss: 0.0196 - wine_quality_root_mean_squared_error: 0.5249 - wine_type_accuracy: 0.9965 - val_loss: 0.3334 - val_wine_quality_loss: 0.3064 - val_wine_type_loss: 0.0263 - val_wine_quality_root_mean_squared_error: 0.5539 - val_wine_type_accuracy: 0.9949\n",
      "Epoch 115/180\n",
      "3155/3155 [==============================] - 0s 89us/sample - loss: 0.2937 - wine_quality_loss: 0.2738 - wine_type_loss: 0.0194 - wine_quality_root_mean_squared_error: 0.5237 - wine_type_accuracy: 0.9965 - val_loss: 0.3289 - val_wine_quality_loss: 0.3021 - val_wine_type_loss: 0.0261 - val_wine_quality_root_mean_squared_error: 0.5499 - val_wine_type_accuracy: 0.9949\n",
      "Epoch 116/180\n",
      "3155/3155 [==============================] - 0s 75us/sample - loss: 0.2942 - wine_quality_loss: 0.2757 - wine_type_loss: 0.0193 - wine_quality_root_mean_squared_error: 0.5242 - wine_type_accuracy: 0.9965 - val_loss: 0.3305 - val_wine_quality_loss: 0.3037 - val_wine_type_loss: 0.0261 - val_wine_quality_root_mean_squared_error: 0.5514 - val_wine_type_accuracy: 0.9949\n",
      "Epoch 117/180\n",
      "3155/3155 [==============================] - 0s 88us/sample - loss: 0.2935 - wine_quality_loss: 0.2741 - wine_type_loss: 0.0191 - wine_quality_root_mean_squared_error: 0.5238 - wine_type_accuracy: 0.9965 - val_loss: 0.3451 - val_wine_quality_loss: 0.3185 - val_wine_type_loss: 0.0264 - val_wine_quality_root_mean_squared_error: 0.5642 - val_wine_type_accuracy: 0.9949\n",
      "Epoch 118/180\n",
      "3155/3155 [==============================] - 0s 88us/sample - loss: 0.2939 - wine_quality_loss: 0.2746 - wine_type_loss: 0.0192 - wine_quality_root_mean_squared_error: 0.5241 - wine_type_accuracy: 0.9965 - val_loss: 0.3414 - val_wine_quality_loss: 0.3142 - val_wine_type_loss: 0.0262 - val_wine_quality_root_mean_squared_error: 0.5611 - val_wine_type_accuracy: 0.9949\n",
      "Epoch 119/180\n",
      "3155/3155 [==============================] - 0s 75us/sample - loss: 0.2927 - wine_quality_loss: 0.2739 - wine_type_loss: 0.0190 - wine_quality_root_mean_squared_error: 0.5230 - wine_type_accuracy: 0.9965 - val_loss: 0.3434 - val_wine_quality_loss: 0.3165 - val_wine_type_loss: 0.0262 - val_wine_quality_root_mean_squared_error: 0.5629 - val_wine_type_accuracy: 0.9949\n",
      "Epoch 120/180\n",
      "3155/3155 [==============================] - 0s 91us/sample - loss: 0.2925 - wine_quality_loss: 0.2736 - wine_type_loss: 0.0190 - wine_quality_root_mean_squared_error: 0.5230 - wine_type_accuracy: 0.9965 - val_loss: 0.3357 - val_wine_quality_loss: 0.3088 - val_wine_type_loss: 0.0261 - val_wine_quality_root_mean_squared_error: 0.5561 - val_wine_type_accuracy: 0.9949\n",
      "Epoch 121/180\n",
      "3155/3155 [==============================] - 0s 89us/sample - loss: 0.2921 - wine_quality_loss: 0.2734 - wine_type_loss: 0.0188 - wine_quality_root_mean_squared_error: 0.5227 - wine_type_accuracy: 0.9965 - val_loss: 0.3330 - val_wine_quality_loss: 0.3063 - val_wine_type_loss: 0.0261 - val_wine_quality_root_mean_squared_error: 0.5538 - val_wine_type_accuracy: 0.9949\n",
      "Epoch 122/180\n",
      "3155/3155 [==============================] - 0s 73us/sample - loss: 0.2906 - wine_quality_loss: 0.2713 - wine_type_loss: 0.0188 - wine_quality_root_mean_squared_error: 0.5212 - wine_type_accuracy: 0.9965 - val_loss: 0.3335 - val_wine_quality_loss: 0.3068 - val_wine_type_loss: 0.0260 - val_wine_quality_root_mean_squared_error: 0.5542 - val_wine_type_accuracy: 0.9949\n",
      "Epoch 123/180\n",
      "3155/3155 [==============================] - 0s 89us/sample - loss: 0.2898 - wine_quality_loss: 0.2714 - wine_type_loss: 0.0187 - wine_quality_root_mean_squared_error: 0.5206 - wine_type_accuracy: 0.9965 - val_loss: 0.3351 - val_wine_quality_loss: 0.3088 - val_wine_type_loss: 0.0258 - val_wine_quality_root_mean_squared_error: 0.5559 - val_wine_type_accuracy: 0.9949\n",
      "Epoch 124/180\n",
      "3155/3155 [==============================] - 0s 72us/sample - loss: 0.2903 - wine_quality_loss: 0.2712 - wine_type_loss: 0.0186 - wine_quality_root_mean_squared_error: 0.5212 - wine_type_accuracy: 0.9965 - val_loss: 0.3350 - val_wine_quality_loss: 0.3084 - val_wine_type_loss: 0.0258 - val_wine_quality_root_mean_squared_error: 0.5558 - val_wine_type_accuracy: 0.9949\n",
      "Epoch 125/180\n",
      "3155/3155 [==============================] - 0s 88us/sample - loss: 0.2895 - wine_quality_loss: 0.2710 - wine_type_loss: 0.0185 - wine_quality_root_mean_squared_error: 0.5206 - wine_type_accuracy: 0.9965 - val_loss: 0.3388 - val_wine_quality_loss: 0.3126 - val_wine_type_loss: 0.0258 - val_wine_quality_root_mean_squared_error: 0.5592 - val_wine_type_accuracy: 0.9949\n",
      "Epoch 126/180\n",
      "3155/3155 [==============================] - 0s 90us/sample - loss: 0.2878 - wine_quality_loss: 0.2693 - wine_type_loss: 0.0184 - wine_quality_root_mean_squared_error: 0.5190 - wine_type_accuracy: 0.9965 - val_loss: 0.3432 - val_wine_quality_loss: 0.3170 - val_wine_type_loss: 0.0257 - val_wine_quality_root_mean_squared_error: 0.5632 - val_wine_type_accuracy: 0.9949\n",
      "Epoch 127/180\n",
      "3155/3155 [==============================] - 0s 74us/sample - loss: 0.2898 - wine_quality_loss: 0.2715 - wine_type_loss: 0.0183 - wine_quality_root_mean_squared_error: 0.5210 - wine_type_accuracy: 0.9965 - val_loss: 0.3340 - val_wine_quality_loss: 0.3080 - val_wine_type_loss: 0.0257 - val_wine_quality_root_mean_squared_error: 0.5550 - val_wine_type_accuracy: 0.9949\n",
      "Epoch 128/180\n",
      "3155/3155 [==============================] - 0s 89us/sample - loss: 0.2881 - wine_quality_loss: 0.2698 - wine_type_loss: 0.0182 - wine_quality_root_mean_squared_error: 0.5195 - wine_type_accuracy: 0.9965 - val_loss: 0.3331 - val_wine_quality_loss: 0.3068 - val_wine_type_loss: 0.0258 - val_wine_quality_root_mean_squared_error: 0.5541 - val_wine_type_accuracy: 0.9949\n",
      "Epoch 129/180\n",
      "3155/3155 [==============================] - 0s 89us/sample - loss: 0.2875 - wine_quality_loss: 0.2691 - wine_type_loss: 0.0181 - wine_quality_root_mean_squared_error: 0.5190 - wine_type_accuracy: 0.9965 - val_loss: 0.3324 - val_wine_quality_loss: 0.3064 - val_wine_type_loss: 0.0257 - val_wine_quality_root_mean_squared_error: 0.5535 - val_wine_type_accuracy: 0.9949\n",
      "Epoch 130/180\n",
      "3155/3155 [==============================] - 0s 73us/sample - loss: 0.2871 - wine_quality_loss: 0.2698 - wine_type_loss: 0.0180 - wine_quality_root_mean_squared_error: 0.5188 - wine_type_accuracy: 0.9965 - val_loss: 0.3341 - val_wine_quality_loss: 0.3077 - val_wine_type_loss: 0.0257 - val_wine_quality_root_mean_squared_error: 0.5551 - val_wine_type_accuracy: 0.9949\n",
      "Epoch 131/180\n",
      "3155/3155 [==============================] - 0s 89us/sample - loss: 0.2866 - wine_quality_loss: 0.2686 - wine_type_loss: 0.0179 - wine_quality_root_mean_squared_error: 0.5183 - wine_type_accuracy: 0.9965 - val_loss: 0.3345 - val_wine_quality_loss: 0.3084 - val_wine_type_loss: 0.0257 - val_wine_quality_root_mean_squared_error: 0.5553 - val_wine_type_accuracy: 0.9949\n",
      "Epoch 132/180\n",
      "3155/3155 [==============================] - 0s 88us/sample - loss: 0.2865 - wine_quality_loss: 0.2687 - wine_type_loss: 0.0178 - wine_quality_root_mean_squared_error: 0.5183 - wine_type_accuracy: 0.9965 - val_loss: 0.3357 - val_wine_quality_loss: 0.3097 - val_wine_type_loss: 0.0257 - val_wine_quality_root_mean_squared_error: 0.5565 - val_wine_type_accuracy: 0.9949\n",
      "Epoch 133/180\n",
      "3155/3155 [==============================] - 0s 74us/sample - loss: 0.2859 - wine_quality_loss: 0.2687 - wine_type_loss: 0.0190 - wine_quality_root_mean_squared_error: 0.5178 - wine_type_accuracy: 0.9965 - val_loss: 0.3381 - val_wine_quality_loss: 0.3120 - val_wine_type_loss: 0.0256 - val_wine_quality_root_mean_squared_error: 0.5588 - val_wine_type_accuracy: 0.9949\n",
      "Epoch 134/180\n",
      "3155/3155 [==============================] - 0s 87us/sample - loss: 0.2857 - wine_quality_loss: 0.2679 - wine_type_loss: 0.0176 - wine_quality_root_mean_squared_error: 0.5177 - wine_type_accuracy: 0.9965 - val_loss: 0.3344 - val_wine_quality_loss: 0.3084 - val_wine_type_loss: 0.0257 - val_wine_quality_root_mean_squared_error: 0.5553 - val_wine_type_accuracy: 0.9949\n",
      "Epoch 135/180\n",
      "3155/3155 [==============================] - 0s 72us/sample - loss: 0.2861 - wine_quality_loss: 0.2693 - wine_type_loss: 0.0175 - wine_quality_root_mean_squared_error: 0.5182 - wine_type_accuracy: 0.9965 - val_loss: 0.3331 - val_wine_quality_loss: 0.3068 - val_wine_type_loss: 0.0257 - val_wine_quality_root_mean_squared_error: 0.5541 - val_wine_type_accuracy: 0.9949\n",
      "Epoch 136/180\n",
      "3155/3155 [==============================] - 0s 89us/sample - loss: 0.2850 - wine_quality_loss: 0.2672 - wine_type_loss: 0.0179 - wine_quality_root_mean_squared_error: 0.5171 - wine_type_accuracy: 0.9965 - val_loss: 0.3413 - val_wine_quality_loss: 0.3152 - val_wine_type_loss: 0.0255 - val_wine_quality_root_mean_squared_error: 0.5617 - val_wine_type_accuracy: 0.9949\n",
      "Epoch 137/180\n",
      "3155/3155 [==============================] - 0s 73us/sample - loss: 0.2840 - wine_quality_loss: 0.2661 - wine_type_loss: 0.0174 - wine_quality_root_mean_squared_error: 0.5163 - wine_type_accuracy: 0.9965 - val_loss: 0.3332 - val_wine_quality_loss: 0.3071 - val_wine_type_loss: 0.0255 - val_wine_quality_root_mean_squared_error: 0.5544 - val_wine_type_accuracy: 0.9949\n",
      "Epoch 138/180\n",
      "3155/3155 [==============================] - 0s 90us/sample - loss: 0.2848 - wine_quality_loss: 0.2673 - wine_type_loss: 0.0173 - wine_quality_root_mean_squared_error: 0.5171 - wine_type_accuracy: 0.9965 - val_loss: 0.3345 - val_wine_quality_loss: 0.3084 - val_wine_type_loss: 0.0256 - val_wine_quality_root_mean_squared_error: 0.5555 - val_wine_type_accuracy: 0.9949\n",
      "Epoch 139/180\n",
      "3155/3155 [==============================] - 0s 89us/sample - loss: 0.2839 - wine_quality_loss: 0.2665 - wine_type_loss: 0.0172 - wine_quality_root_mean_squared_error: 0.5163 - wine_type_accuracy: 0.9965 - val_loss: 0.3354 - val_wine_quality_loss: 0.3093 - val_wine_type_loss: 0.0255 - val_wine_quality_root_mean_squared_error: 0.5564 - val_wine_type_accuracy: 0.9949\n",
      "Epoch 140/180\n",
      "3155/3155 [==============================] - 0s 73us/sample - loss: 0.2829 - wine_quality_loss: 0.2663 - wine_type_loss: 0.0171 - wine_quality_root_mean_squared_error: 0.5155 - wine_type_accuracy: 0.9965 - val_loss: 0.3334 - val_wine_quality_loss: 0.3072 - val_wine_type_loss: 0.0255 - val_wine_quality_root_mean_squared_error: 0.5546 - val_wine_type_accuracy: 0.9949\n",
      "Epoch 141/180\n",
      "3155/3155 [==============================] - 0s 88us/sample - loss: 0.2825 - wine_quality_loss: 0.2651 - wine_type_loss: 0.0171 - wine_quality_root_mean_squared_error: 0.5152 - wine_type_accuracy: 0.9965 - val_loss: 0.3420 - val_wine_quality_loss: 0.3158 - val_wine_type_loss: 0.0254 - val_wine_quality_root_mean_squared_error: 0.5624 - val_wine_type_accuracy: 0.9949\n",
      "Epoch 142/180\n",
      "3155/3155 [==============================] - 0s 72us/sample - loss: 0.2819 - wine_quality_loss: 0.2646 - wine_type_loss: 0.0170 - wine_quality_root_mean_squared_error: 0.5147 - wine_type_accuracy: 0.9965 - val_loss: 0.3409 - val_wine_quality_loss: 0.3152 - val_wine_type_loss: 0.0253 - val_wine_quality_root_mean_squared_error: 0.5615 - val_wine_type_accuracy: 0.9949\n",
      "Epoch 143/180\n",
      "3155/3155 [==============================] - 0s 88us/sample - loss: 0.2813 - wine_quality_loss: 0.2649 - wine_type_loss: 0.0169 - wine_quality_root_mean_squared_error: 0.5141 - wine_type_accuracy: 0.9965 - val_loss: 0.3386 - val_wine_quality_loss: 0.3125 - val_wine_type_loss: 0.0253 - val_wine_quality_root_mean_squared_error: 0.5594 - val_wine_type_accuracy: 0.9949\n",
      "Epoch 144/180\n",
      "3155/3155 [==============================] - 0s 88us/sample - loss: 0.2805 - wine_quality_loss: 0.2634 - wine_type_loss: 0.0171 - wine_quality_root_mean_squared_error: 0.5134 - wine_type_accuracy: 0.9965 - val_loss: 0.3365 - val_wine_quality_loss: 0.3108 - val_wine_type_loss: 0.0252 - val_wine_quality_root_mean_squared_error: 0.5576 - val_wine_type_accuracy: 0.9949\n",
      "Epoch 145/180\n",
      "3155/3155 [==============================] - 0s 73us/sample - loss: 0.2798 - wine_quality_loss: 0.2627 - wine_type_loss: 0.0167 - wine_quality_root_mean_squared_error: 0.5129 - wine_type_accuracy: 0.9965 - val_loss: 0.3329 - val_wine_quality_loss: 0.3071 - val_wine_type_loss: 0.0253 - val_wine_quality_root_mean_squared_error: 0.5543 - val_wine_type_accuracy: 0.9949\n",
      "Epoch 146/180\n",
      "3155/3155 [==============================] - 0s 90us/sample - loss: 0.2807 - wine_quality_loss: 0.2638 - wine_type_loss: 0.0175 - wine_quality_root_mean_squared_error: 0.5137 - wine_type_accuracy: 0.9965 - val_loss: 0.3326 - val_wine_quality_loss: 0.3067 - val_wine_type_loss: 0.0253 - val_wine_quality_root_mean_squared_error: 0.5540 - val_wine_type_accuracy: 0.9949\n",
      "Epoch 147/180\n",
      "3155/3155 [==============================] - 0s 72us/sample - loss: 0.2801 - wine_quality_loss: 0.2630 - wine_type_loss: 0.0166 - wine_quality_root_mean_squared_error: 0.5133 - wine_type_accuracy: 0.9965 - val_loss: 0.3317 - val_wine_quality_loss: 0.3057 - val_wine_type_loss: 0.0253 - val_wine_quality_root_mean_squared_error: 0.5532 - val_wine_type_accuracy: 0.9949\n",
      "Epoch 148/180\n",
      "3155/3155 [==============================] - 0s 75us/sample - loss: 0.2798 - wine_quality_loss: 0.2636 - wine_type_loss: 0.0166 - wine_quality_root_mean_squared_error: 0.5130 - wine_type_accuracy: 0.9965 - val_loss: 0.3331 - val_wine_quality_loss: 0.3074 - val_wine_type_loss: 0.0253 - val_wine_quality_root_mean_squared_error: 0.5546 - val_wine_type_accuracy: 0.9949\n",
      "Epoch 149/180\n",
      "3155/3155 [==============================] - 0s 88us/sample - loss: 0.2791 - wine_quality_loss: 0.2628 - wine_type_loss: 0.0165 - wine_quality_root_mean_squared_error: 0.5124 - wine_type_accuracy: 0.9965 - val_loss: 0.3383 - val_wine_quality_loss: 0.3124 - val_wine_type_loss: 0.0253 - val_wine_quality_root_mean_squared_error: 0.5592 - val_wine_type_accuracy: 0.9949\n",
      "Epoch 150/180\n",
      "3155/3155 [==============================] - 0s 74us/sample - loss: 0.2787 - wine_quality_loss: 0.2619 - wine_type_loss: 0.0165 - wine_quality_root_mean_squared_error: 0.5120 - wine_type_accuracy: 0.9965 - val_loss: 0.3341 - val_wine_quality_loss: 0.3079 - val_wine_type_loss: 0.0253 - val_wine_quality_root_mean_squared_error: 0.5554 - val_wine_type_accuracy: 0.9962\n",
      "Epoch 151/180\n",
      "3155/3155 [==============================] - 0s 88us/sample - loss: 0.2783 - wine_quality_loss: 0.2618 - wine_type_loss: 0.0163 - wine_quality_root_mean_squared_error: 0.5117 - wine_type_accuracy: 0.9965 - val_loss: 0.3464 - val_wine_quality_loss: 0.3204 - val_wine_type_loss: 0.0253 - val_wine_quality_root_mean_squared_error: 0.5663 - val_wine_type_accuracy: 0.9962\n",
      "Epoch 152/180\n",
      "3155/3155 [==============================] - 0s 88us/sample - loss: 0.2781 - wine_quality_loss: 0.2618 - wine_type_loss: 0.0163 - wine_quality_root_mean_squared_error: 0.5116 - wine_type_accuracy: 0.9965 - val_loss: 0.3319 - val_wine_quality_loss: 0.3060 - val_wine_type_loss: 0.0252 - val_wine_quality_root_mean_squared_error: 0.5535 - val_wine_type_accuracy: 0.9962\n",
      "Epoch 153/180\n",
      "3155/3155 [==============================] - 0s 74us/sample - loss: 0.2772 - wine_quality_loss: 0.2609 - wine_type_loss: 0.0163 - wine_quality_root_mean_squared_error: 0.5108 - wine_type_accuracy: 0.9965 - val_loss: 0.3457 - val_wine_quality_loss: 0.3200 - val_wine_type_loss: 0.0254 - val_wine_quality_root_mean_squared_error: 0.5657 - val_wine_type_accuracy: 0.9962\n",
      "Epoch 154/180\n",
      "3155/3155 [==============================] - 0s 90us/sample - loss: 0.2777 - wine_quality_loss: 0.2611 - wine_type_loss: 0.0162 - wine_quality_root_mean_squared_error: 0.5114 - wine_type_accuracy: 0.9965 - val_loss: 0.3409 - val_wine_quality_loss: 0.3151 - val_wine_type_loss: 0.0252 - val_wine_quality_root_mean_squared_error: 0.5615 - val_wine_type_accuracy: 0.9962\n",
      "Epoch 155/180\n",
      "3155/3155 [==============================] - 0s 89us/sample - loss: 0.2765 - wine_quality_loss: 0.2600 - wine_type_loss: 0.0161 - wine_quality_root_mean_squared_error: 0.5103 - wine_type_accuracy: 0.9968 - val_loss: 0.3416 - val_wine_quality_loss: 0.3162 - val_wine_type_loss: 0.0251 - val_wine_quality_root_mean_squared_error: 0.5623 - val_wine_type_accuracy: 0.9949\n",
      "Epoch 156/180\n",
      "3155/3155 [==============================] - 0s 76us/sample - loss: 0.2762 - wine_quality_loss: 0.2604 - wine_type_loss: 0.0160 - wine_quality_root_mean_squared_error: 0.5100 - wine_type_accuracy: 0.9965 - val_loss: 0.3356 - val_wine_quality_loss: 0.3098 - val_wine_type_loss: 0.0251 - val_wine_quality_root_mean_squared_error: 0.5570 - val_wine_type_accuracy: 0.9962\n",
      "Epoch 157/180\n",
      "3155/3155 [==============================] - 0s 90us/sample - loss: 0.2759 - wine_quality_loss: 0.2600 - wine_type_loss: 0.0160 - wine_quality_root_mean_squared_error: 0.5098 - wine_type_accuracy: 0.9965 - val_loss: 0.3357 - val_wine_quality_loss: 0.3100 - val_wine_type_loss: 0.0250 - val_wine_quality_root_mean_squared_error: 0.5571 - val_wine_type_accuracy: 0.9962\n",
      "Epoch 158/180\n",
      "3155/3155 [==============================] - 0s 90us/sample - loss: 0.2754 - wine_quality_loss: 0.2597 - wine_type_loss: 0.0158 - wine_quality_root_mean_squared_error: 0.5094 - wine_type_accuracy: 0.9965 - val_loss: 0.3386 - val_wine_quality_loss: 0.3128 - val_wine_type_loss: 0.0249 - val_wine_quality_root_mean_squared_error: 0.5598 - val_wine_type_accuracy: 0.9949\n",
      "Epoch 159/180\n",
      "3155/3155 [==============================] - 0s 73us/sample - loss: 0.2755 - wine_quality_loss: 0.2600 - wine_type_loss: 0.0179 - wine_quality_root_mean_squared_error: 0.5096 - wine_type_accuracy: 0.9968 - val_loss: 0.3338 - val_wine_quality_loss: 0.3084 - val_wine_type_loss: 0.0249 - val_wine_quality_root_mean_squared_error: 0.5555 - val_wine_type_accuracy: 0.9949\n",
      "Epoch 160/180\n",
      "3155/3155 [==============================] - 0s 91us/sample - loss: 0.2737 - wine_quality_loss: 0.2588 - wine_type_loss: 0.0157 - wine_quality_root_mean_squared_error: 0.5078 - wine_type_accuracy: 0.9968 - val_loss: 0.3375 - val_wine_quality_loss: 0.3122 - val_wine_type_loss: 0.0249 - val_wine_quality_root_mean_squared_error: 0.5589 - val_wine_type_accuracy: 0.9949\n",
      "Epoch 161/180\n",
      "3155/3155 [==============================] - 0s 92us/sample - loss: 0.2745 - wine_quality_loss: 0.2594 - wine_type_loss: 0.0157 - wine_quality_root_mean_squared_error: 0.5087 - wine_type_accuracy: 0.9965 - val_loss: 0.3328 - val_wine_quality_loss: 0.3072 - val_wine_type_loss: 0.0249 - val_wine_quality_root_mean_squared_error: 0.5547 - val_wine_type_accuracy: 0.9962\n",
      "Epoch 162/180\n",
      "3155/3155 [==============================] - 0s 89us/sample - loss: 0.2731 - wine_quality_loss: 0.2578 - wine_type_loss: 0.0156 - wine_quality_root_mean_squared_error: 0.5074 - wine_type_accuracy: 0.9968 - val_loss: 0.3450 - val_wine_quality_loss: 0.3196 - val_wine_type_loss: 0.0249 - val_wine_quality_root_mean_squared_error: 0.5654 - val_wine_type_accuracy: 0.9962\n",
      "Epoch 163/180\n",
      "3155/3155 [==============================] - 0s 77us/sample - loss: 0.2739 - wine_quality_loss: 0.2580 - wine_type_loss: 0.0161 - wine_quality_root_mean_squared_error: 0.5084 - wine_type_accuracy: 0.9968 - val_loss: 0.3351 - val_wine_quality_loss: 0.3096 - val_wine_type_loss: 0.0251 - val_wine_quality_root_mean_squared_error: 0.5565 - val_wine_type_accuracy: 0.9962\n",
      "Epoch 164/180\n",
      "3155/3155 [==============================] - 0s 91us/sample - loss: 0.2738 - wine_quality_loss: 0.2589 - wine_type_loss: 0.0154 - wine_quality_root_mean_squared_error: 0.5083 - wine_type_accuracy: 0.9968 - val_loss: 0.3369 - val_wine_quality_loss: 0.3108 - val_wine_type_loss: 0.0251 - val_wine_quality_root_mean_squared_error: 0.5580 - val_wine_type_accuracy: 0.9962\n",
      "Epoch 165/180\n",
      "3155/3155 [==============================] - 0s 92us/sample - loss: 0.2730 - wine_quality_loss: 0.2576 - wine_type_loss: 0.0154 - wine_quality_root_mean_squared_error: 0.5075 - wine_type_accuracy: 0.9968 - val_loss: 0.3465 - val_wine_quality_loss: 0.3208 - val_wine_type_loss: 0.0252 - val_wine_quality_root_mean_squared_error: 0.5666 - val_wine_type_accuracy: 0.9962\n",
      "Epoch 166/180\n",
      "3155/3155 [==============================] - 0s 89us/sample - loss: 0.2715 - wine_quality_loss: 0.2559 - wine_type_loss: 0.0153 - wine_quality_root_mean_squared_error: 0.5061 - wine_type_accuracy: 0.9968 - val_loss: 0.3426 - val_wine_quality_loss: 0.3169 - val_wine_type_loss: 0.0251 - val_wine_quality_root_mean_squared_error: 0.5632 - val_wine_type_accuracy: 0.9962\n",
      "Epoch 167/180\n",
      "3155/3155 [==============================] - 0s 73us/sample - loss: 0.2721 - wine_quality_loss: 0.2573 - wine_type_loss: 0.0152 - wine_quality_root_mean_squared_error: 0.5068 - wine_type_accuracy: 0.9968 - val_loss: 0.3438 - val_wine_quality_loss: 0.3183 - val_wine_type_loss: 0.0250 - val_wine_quality_root_mean_squared_error: 0.5643 - val_wine_type_accuracy: 0.9962\n",
      "Epoch 168/180\n",
      "3155/3155 [==============================] - 0s 90us/sample - loss: 0.2725 - wine_quality_loss: 0.2574 - wine_type_loss: 0.0151 - wine_quality_root_mean_squared_error: 0.5072 - wine_type_accuracy: 0.9968 - val_loss: 0.3404 - val_wine_quality_loss: 0.3145 - val_wine_type_loss: 0.0251 - val_wine_quality_root_mean_squared_error: 0.5612 - val_wine_type_accuracy: 0.9962\n",
      "Epoch 169/180\n",
      "3155/3155 [==============================] - 0s 88us/sample - loss: 0.2712 - wine_quality_loss: 0.2565 - wine_type_loss: 0.0151 - wine_quality_root_mean_squared_error: 0.5060 - wine_type_accuracy: 0.9968 - val_loss: 0.3457 - val_wine_quality_loss: 0.3197 - val_wine_type_loss: 0.0251 - val_wine_quality_root_mean_squared_error: 0.5659 - val_wine_type_accuracy: 0.9962\n",
      "Epoch 170/180\n",
      "3155/3155 [==============================] - 0s 74us/sample - loss: 0.2716 - wine_quality_loss: 0.2561 - wine_type_loss: 0.0151 - wine_quality_root_mean_squared_error: 0.5065 - wine_type_accuracy: 0.9968 - val_loss: 0.3406 - val_wine_quality_loss: 0.3148 - val_wine_type_loss: 0.0251 - val_wine_quality_root_mean_squared_error: 0.5614 - val_wine_type_accuracy: 0.9962\n",
      "Epoch 171/180\n",
      "3155/3155 [==============================] - 0s 88us/sample - loss: 0.2715 - wine_quality_loss: 0.2571 - wine_type_loss: 0.0150 - wine_quality_root_mean_squared_error: 0.5064 - wine_type_accuracy: 0.9968 - val_loss: 0.3381 - val_wine_quality_loss: 0.3126 - val_wine_type_loss: 0.0249 - val_wine_quality_root_mean_squared_error: 0.5593 - val_wine_type_accuracy: 0.9962\n",
      "Epoch 172/180\n",
      "3155/3155 [==============================] - 0s 74us/sample - loss: 0.2701 - wine_quality_loss: 0.2549 - wine_type_loss: 0.0149 - wine_quality_root_mean_squared_error: 0.5051 - wine_type_accuracy: 0.9968 - val_loss: 0.3354 - val_wine_quality_loss: 0.3098 - val_wine_type_loss: 0.0249 - val_wine_quality_root_mean_squared_error: 0.5569 - val_wine_type_accuracy: 0.9962\n",
      "Epoch 173/180\n",
      "3155/3155 [==============================] - 0s 89us/sample - loss: 0.2689 - wine_quality_loss: 0.2539 - wine_type_loss: 0.0148 - wine_quality_root_mean_squared_error: 0.5040 - wine_type_accuracy: 0.9968 - val_loss: 0.3488 - val_wine_quality_loss: 0.3230 - val_wine_type_loss: 0.0251 - val_wine_quality_root_mean_squared_error: 0.5687 - val_wine_type_accuracy: 0.9962\n",
      "Epoch 174/180\n",
      "3155/3155 [==============================] - 0s 90us/sample - loss: 0.2700 - wine_quality_loss: 0.2552 - wine_type_loss: 0.0148 - wine_quality_root_mean_squared_error: 0.5051 - wine_type_accuracy: 0.9968 - val_loss: 0.3385 - val_wine_quality_loss: 0.3130 - val_wine_type_loss: 0.0249 - val_wine_quality_root_mean_squared_error: 0.5597 - val_wine_type_accuracy: 0.9962\n",
      "Epoch 175/180\n",
      "3155/3155 [==============================] - 0s 75us/sample - loss: 0.2692 - wine_quality_loss: 0.2541 - wine_type_loss: 0.0147 - wine_quality_root_mean_squared_error: 0.5044 - wine_type_accuracy: 0.9968 - val_loss: 0.3389 - val_wine_quality_loss: 0.3135 - val_wine_type_loss: 0.0249 - val_wine_quality_root_mean_squared_error: 0.5601 - val_wine_type_accuracy: 0.9962\n",
      "Epoch 176/180\n",
      "3155/3155 [==============================] - 0s 90us/sample - loss: 0.2689 - wine_quality_loss: 0.2540 - wine_type_loss: 0.0147 - wine_quality_root_mean_squared_error: 0.5042 - wine_type_accuracy: 0.9968 - val_loss: 0.3365 - val_wine_quality_loss: 0.3111 - val_wine_type_loss: 0.0249 - val_wine_quality_root_mean_squared_error: 0.5579 - val_wine_type_accuracy: 0.9962\n",
      "Epoch 177/180\n",
      "3155/3155 [==============================] - 0s 91us/sample - loss: 0.2682 - wine_quality_loss: 0.2537 - wine_type_loss: 0.0146 - wine_quality_root_mean_squared_error: 0.5036 - wine_type_accuracy: 0.9968 - val_loss: 0.3428 - val_wine_quality_loss: 0.3168 - val_wine_type_loss: 0.0251 - val_wine_quality_root_mean_squared_error: 0.5634 - val_wine_type_accuracy: 0.9962\n",
      "Epoch 178/180\n",
      "3155/3155 [==============================] - 0s 73us/sample - loss: 0.2671 - wine_quality_loss: 0.2527 - wine_type_loss: 0.0145 - wine_quality_root_mean_squared_error: 0.5025 - wine_type_accuracy: 0.9968 - val_loss: 0.3363 - val_wine_quality_loss: 0.3108 - val_wine_type_loss: 0.0250 - val_wine_quality_root_mean_squared_error: 0.5577 - val_wine_type_accuracy: 0.9962\n",
      "Epoch 179/180\n",
      "3155/3155 [==============================] - 0s 91us/sample - loss: 0.2663 - wine_quality_loss: 0.2515 - wine_type_loss: 0.0145 - wine_quality_root_mean_squared_error: 0.5017 - wine_type_accuracy: 0.9968 - val_loss: 0.3372 - val_wine_quality_loss: 0.3116 - val_wine_type_loss: 0.0251 - val_wine_quality_root_mean_squared_error: 0.5584 - val_wine_type_accuracy: 0.9962\n",
      "Epoch 180/180\n",
      "3155/3155 [==============================] - 0s 88us/sample - loss: 0.2670 - wine_quality_loss: 0.2525 - wine_type_loss: 0.0146 - wine_quality_root_mean_squared_error: 0.5024 - wine_type_accuracy: 0.9968 - val_loss: 0.3372 - val_wine_quality_loss: 0.3119 - val_wine_type_loss: 0.0250 - val_wine_quality_root_mean_squared_error: 0.5585 - val_wine_type_accuracy: 0.9962\n"
     ]
    }
   ],
   "source": [
    "## Please uncomment all lines in this cell and replace those marked with `# YOUR CODE HERE`.\n",
    "## You can select all lines in this code cell with Ctrl+A (Windows/Linux) or Cmd+A (Mac), then press Ctrl+/ (Windows/Linux) or Cmd+/ (Mac) to uncomment.\n",
    "\n",
    "\n",
    "\n",
    "history = model.fit(norm_train_X, train_Y ,\n",
    "                     epochs = 180, validation_data=(norm_val_X, val_Y))"
   ]
  },
  {
   "cell_type": "code",
   "execution_count": null,
   "metadata": {
    "deletable": false,
    "editable": false,
    "nbgrader": {
     "cell_type": "code",
     "checksum": "fadad8896eda9c8c2115970724b15508",
     "grade": true,
     "grade_id": "cell-eb4d5b41bef8f0ab",
     "locked": true,
     "points": 1,
     "schema_version": 3,
     "solution": false,
     "task": false
    }
   },
   "outputs": [],
   "source": [
    "utils.test_history(history)"
   ]
  },
  {
   "cell_type": "code",
   "execution_count": 49,
   "metadata": {
    "colab": {},
    "colab_type": "code",
    "id": "CubF2J2gSf6q"
   },
   "outputs": [
    {
     "name": "stdout",
     "output_type": "stream",
     "text": [
      "789/789 [==============================] - 0s 22us/sample - loss: 0.3372 - wine_quality_loss: 0.3119 - wine_type_loss: 0.0250 - wine_quality_root_mean_squared_error: 0.5585 - wine_type_accuracy: 0.9962\n",
      "\n",
      "loss: 0.33716353097947077\n",
      "wine_quality_loss: 0.311868816614151\n",
      "wine_type_loss: 0.02495410293340683\n",
      "wine_quality_rmse: 0.558465838432312\n",
      "wine_type_accuracy: 0.9961977005004883\n"
     ]
    }
   ],
   "source": [
    "# Gather the training metrics\n",
    "loss, wine_quality_loss, wine_type_loss, wine_quality_rmse, wine_type_accuracy = model.evaluate(x=norm_val_X, y=val_Y)\n",
    "\n",
    "print()\n",
    "print(f'loss: {loss}')\n",
    "print(f'wine_quality_loss: {wine_quality_loss}')\n",
    "print(f'wine_type_loss: {wine_type_loss}')\n",
    "print(f'wine_quality_rmse: {wine_quality_rmse}')\n",
    "print(f'wine_type_accuracy: {wine_type_accuracy}')\n",
    "\n",
    "# EXPECTED VALUES\n",
    "# ~ 0.30 - 0.38\n",
    "# ~ 0.30 - 0.38\n",
    "# ~ 0.018 - 0.030\n",
    "# ~ 0.50 - 0.62\n",
    "# ~ 0.97 - 1.0\n",
    "\n",
    "# Example:\n",
    "#0.3657050132751465\n",
    "#0.3463745415210724\n",
    "#0.019330406561493874\n",
    "#0.5885359048843384\n",
    "#0.9974651336669922"
   ]
  },
  {
   "cell_type": "markdown",
   "metadata": {
    "colab_type": "text",
    "id": "gPtTGAP4usnm"
   },
   "source": [
    "## Analyze the Model Performance\n",
    "\n",
    "Note that the model has two outputs. The output at index 0 is quality and index 1 is wine type\n",
    "\n",
    "So, round the quality predictions to the nearest integer."
   ]
  },
  {
   "cell_type": "code",
   "execution_count": 50,
   "metadata": {
    "colab": {},
    "colab_type": "code",
    "id": "tBq9PEeAaW-Y"
   },
   "outputs": [],
   "source": [
    "predictions = model.predict(norm_test_X)\n",
    "quality_pred = predictions[0]\n",
    "type_pred = predictions[1]"
   ]
  },
  {
   "cell_type": "code",
   "execution_count": 51,
   "metadata": {
    "colab": {},
    "colab_type": "code",
    "id": "YLhgTR4xTIxj"
   },
   "outputs": [
    {
     "name": "stdout",
     "output_type": "stream",
     "text": [
      "[5.3678117]\n"
     ]
    }
   ],
   "source": [
    "print(quality_pred[0])\n",
    "\n",
    "# EXPECTED OUTPUT\n",
    "# 5.6 - 6.0"
   ]
  },
  {
   "cell_type": "code",
   "execution_count": 52,
   "metadata": {
    "colab": {},
    "colab_type": "code",
    "id": "MPi-eYfGTUXi"
   },
   "outputs": [
    {
     "name": "stdout",
     "output_type": "stream",
     "text": [
      "[0.00027253]\n",
      "[0.99999404]\n"
     ]
    }
   ],
   "source": [
    "print(type_pred[0])\n",
    "print(type_pred[944])\n",
    "\n",
    "# EXPECTED OUTPUT\n",
    "# A number close to zero\n",
    "# A number close to or equal to 1"
   ]
  },
  {
   "cell_type": "markdown",
   "metadata": {
    "colab_type": "text",
    "id": "Kohk-9C6vt_s"
   },
   "source": [
    "### Plot Utilities\n",
    "\n",
    "We define a few utilities to visualize the model performance."
   ]
  },
  {
   "cell_type": "code",
   "execution_count": 53,
   "metadata": {
    "colab": {},
    "colab_type": "code",
    "id": "62gEOFUhn6aQ"
   },
   "outputs": [],
   "source": [
    "def plot_metrics(metric_name, title, ylim=5):\n",
    "    plt.title(title)\n",
    "    plt.ylim(0,ylim)\n",
    "    plt.plot(history.history[metric_name],color='blue',label=metric_name)\n",
    "    plt.plot(history.history['val_' + metric_name],color='green',label='val_' + metric_name)\n"
   ]
  },
  {
   "cell_type": "code",
   "execution_count": 54,
   "metadata": {
    "colab": {},
    "colab_type": "code",
    "id": "6rfgSx7uz5dj"
   },
   "outputs": [],
   "source": [
    "def plot_confusion_matrix(y_true, y_pred, title='', labels=[0,1]):\n",
    "    cm = confusion_matrix(y_true, y_pred)\n",
    "    fig = plt.figure()\n",
    "    ax = fig.add_subplot(111)\n",
    "    cax = ax.matshow(cm)\n",
    "    plt.title('Confusion matrix of the classifier')\n",
    "    fig.colorbar(cax)\n",
    "    ax.set_xticklabels([''] + labels)\n",
    "    ax.set_yticklabels([''] + labels)\n",
    "    plt.xlabel('Predicted')\n",
    "    plt.ylabel('True')\n",
    "    fmt = 'd'\n",
    "    thresh = cm.max() / 2.\n",
    "    for i, j in itertools.product(range(cm.shape[0]), range(cm.shape[1])):\n",
    "          plt.text(j, i, format(cm[i, j], fmt),\n",
    "                  horizontalalignment=\"center\",\n",
    "                  color=\"black\" if cm[i, j] > thresh else \"white\")\n",
    "    plt.show()"
   ]
  },
  {
   "cell_type": "code",
   "execution_count": 55,
   "metadata": {
    "colab": {},
    "colab_type": "code",
    "id": "dfVLIqi017Vf"
   },
   "outputs": [],
   "source": [
    "def plot_diff(y_true, y_pred, title = '' ):\n",
    "    plt.scatter(y_true, y_pred)\n",
    "    plt.title(title)\n",
    "    plt.xlabel('True Values')\n",
    "    plt.ylabel('Predictions')\n",
    "    plt.axis('equal')\n",
    "    plt.axis('square')\n",
    "    plt.plot([-100, 100], [-100, 100])\n",
    "    return plt"
   ]
  },
  {
   "cell_type": "markdown",
   "metadata": {
    "colab_type": "text",
    "id": "8sd1jdFbwE0I"
   },
   "source": [
    "### Plots for Metrics"
   ]
  },
  {
   "cell_type": "code",
   "execution_count": 56,
   "metadata": {
    "colab": {},
    "colab_type": "code",
    "id": "f3MwZ5J1pOfj"
   },
   "outputs": [
    {
     "data": {
      "image/png": "[encoded data removed]",
      "text/plain": [
       "<Figure size 432x288 with 1 Axes>"
      ]
     },
     "metadata": {
      "needs_background": "light"
     },
     "output_type": "display_data"
    }
   ],
   "source": [
    "plot_metrics('wine_quality_root_mean_squared_error', 'RMSE', ylim=2)"
   ]
  },
  {
   "cell_type": "code",
   "execution_count": 57,
   "metadata": {
    "colab": {},
    "colab_type": "code",
    "id": "QIAxEezCppnd"
   },
   "outputs": [
    {
     "data": {
      "image/png": "[encoded data removed]",
      "text/plain": [
       "<Figure size 432x288 with 1 Axes>"
      ]
     },
     "metadata": {
      "needs_background": "light"
     },
     "output_type": "display_data"
    }
   ],
   "source": [
    "plot_metrics('wine_type_loss', 'Wine Type Loss', ylim=0.2)"
   ]
  },
  {
   "cell_type": "markdown",
   "metadata": {
    "colab_type": "text",
    "id": "uYV9AOAMwI9p"
   },
   "source": [
    "### Plots for Confusion Matrix\n",
    "\n",
    "Plot the confusion matrices for wine type. You can see that the model performs well for prediction of wine type from the confusion matrix and the loss metrics."
   ]
  },
  {
   "cell_type": "code",
   "execution_count": 58,
   "metadata": {
    "colab": {},
    "colab_type": "code",
    "id": "C3hvTYxIaf3n"
   },
   "outputs": [
    {
     "data": {
      "image/png": "[encoded data removed]",
      "text/plain": [
       "<Figure size 432x288 with 2 Axes>"
      ]
     },
     "metadata": {
      "needs_background": "light"
     },
     "output_type": "display_data"
    }
   ],
   "source": [
    "plot_confusion_matrix(test_Y[1], np.round(type_pred), title='Wine Type', labels = [0, 1])"
   ]
  },
  {
   "cell_type": "code",
   "execution_count": 59,
   "metadata": {
    "colab": {},
    "colab_type": "code",
    "id": "GW91ym8P2I5y"
   },
   "outputs": [
    {
     "data": {
      "image/png": "[encoded data removed]",
      "text/plain": [
       "<Figure size 432x288 with 1 Axes>"
      ]
     },
     "metadata": {
      "needs_background": "light"
     },
     "output_type": "display_data"
    }
   ],
   "source": [
    "scatter_plot = plot_diff(test_Y[0], quality_pred, title='Type')"
   ]
  },
  {
   "cell_type": "code",
   "execution_count": null,
   "metadata": {},
   "outputs": [],
   "source": []
  }
 ],
 "metadata": {
  "colab": {
   "include_colab_link": true,
   "name": "exercise-answer.ipynb",
   "provenance": []
  },
  "kernelspec": {
   "display_name": "Python 3",
   "language": "python",
   "name": "python3"
  },
  "language_info": {
   "codemirror_mode": {
    "name": "ipython",
    "version": 3
   },
   "file_extension": ".py",
   "mimetype": "text/x-python",
   "name": "python",
   "nbconvert_exporter": "python",
   "pygments_lexer": "ipython3",
   "version": "3.7.6"
  }
 },
 "nbformat": 4,
 "nbformat_minor": 4
}
